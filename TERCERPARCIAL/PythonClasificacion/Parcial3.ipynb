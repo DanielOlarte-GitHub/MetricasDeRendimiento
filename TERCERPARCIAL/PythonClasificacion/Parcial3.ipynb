{
 "cells": [
  {
   "cell_type": "markdown",
   "metadata": {},
   "source": [
    "\n",
    "<center><img src=\"https://www.usergioarboleda.edu.co/wp-content/uploads/ultimatum/imagens/logo-mobile-UniversidadSergioArboleda.png\">\n",
    "<h1>Universidad Sergio Arboleda</h1>\n",
    "<h3>Ciencias de la Computacion e IA\n",
    "<h4>Metricas de Rendimiento</h4>\n",
    "<p><b>INTEGRANTES:</b></p>\n",
    "<p>Daniel Alejandro Olarte Ávila</p>\n",
    "<p>22 de Noviembre 2022</p>\n",
    "<p>Profesor: John Corredor</p></center>"
   ]
  },
  {
   "cell_type": "markdown",
   "metadata": {},
   "source": [
    "<h1> IMPORTANTE: Debido a el gran tamaño de datos que tienen los datasets no se pudo subir dichos datasets al repositorio personal, ni comprimidos, por lo cual se enviaron los datasets por aparte para poder evidenciar todo el trabajo en el caso que se desee volver a ejecutar y/o editar el cuaderno"
   ]
  },
  {
   "cell_type": "markdown",
   "metadata": {},
   "source": [
    "# IMPORTACIONES E INSTALACIONES"
   ]
  },
  {
   "cell_type": "code",
   "execution_count": null,
   "metadata": {},
   "outputs": [],
   "source": [
    "#Modulo para realizar mapas el cual se va a trabajar para definir en que lugar hubo delitos segun el dataset\n",
    "#pip install folium"
   ]
  },
  {
   "cell_type": "code",
   "execution_count": 2,
   "metadata": {},
   "outputs": [],
   "source": [
    "#Se importan modulos \n",
    "import numpy as np\n",
    "import pandas as pd\n",
    "import matplotlib.pyplot as plt\n",
    "import plotly.express as px\n",
    "import seaborn as sns\n",
    "import folium\n",
    "\n",
    "#Se importa metodo de sklearn para la division de conjuntos de train y test del dataset\n",
    "from sklearn.model_selection import train_test_split\n",
    "\n",
    "#Se importan modelos de sklearn para entrenar el modelo y ver la diferencia entre Regresion Logistica y Decenso del Gradiente\n",
    "from sklearn.linear_model import LogisticRegression, SGDClassifier\n",
    "\n",
    "#Se importa el modelo de arbol de decision solo para evaluar caracteristicas importantes\n",
    "from sklearn.tree import DecisionTreeClassifier\n",
    "\n",
    "#Se importan metodos y herramientas de Sklearn para la parte de preprocesamiento\n",
    "from sklearn.pipeline import Pipeline\n",
    "from sklearn.compose import ColumnTransformer\n",
    "from sklearn.impute import SimpleImputer\n",
    "from sklearn.preprocessing import StandardScaler, OrdinalEncoder\n",
    "\n"
   ]
  },
  {
   "cell_type": "markdown",
   "metadata": {},
   "source": [
    "<h1>INTRODUCCION</h1>\n",
    "\n",
    "<p>En este trabajo se podra evidenciar el proceso al obtener un dataset, el cual constara de un EDA y asi mismo un arreglo de dichos datos, datos faltantes, outliers, datos categoricos, features mas importantes, etc. </p>\n",
    "<p>Asi mismo se evaluara luego en el lenguaje de C++ para comparar el rendimiento y asi mismo la eficiencia de los modelos de ML, como es el caso de Regresion Logistica y Decenso del gradiente </p>\n",
    "\n",
    "<b> El DataSet con el que se va a trabajar es un DataSet que contiene los delitos cometidos en la ciudad de Chicago entre el año 2012 al 2017 en la cual contiene solo delitos de 4 tipos que son:</b>\n",
    "\n",
    "* THEFT\n",
    "* CRIMINAL DAMAGE\n",
    "* NARCOTICS\n",
    "* ASSAULT\n",
    "* PROSTITUTION. \n",
    "\n",
    "<p>En donde se puede evidenciar diferentes tipos de caracteristicas que tiene de informacion el dataset para definir si el caso finalizo con una sentencia o no</p>\n",
    "\n",
    "<p>En el trabajo se realizara un analisis de los datos para poder determinar si se puede predecir si un caso finalizara con una sentencia o no, para esto se realizara un analisis de los datos para poder determinar que caracteristicas son las mas importantes, y arreglar el dataset original, esto con fin de tener un dataset mas acomodado al momento de realizar el proyecto de C++ y compararlo de manera mas sencilla</p>"
   ]
  },
  {
   "cell_type": "markdown",
   "metadata": {},
   "source": [
    "# DATASET KAGGLE"
   ]
  },
  {
   "cell_type": "code",
   "execution_count": null,
   "metadata": {},
   "outputs": [],
   "source": [
    "#Se extrae el dataset en una dataframe usando pandas\n",
    "df =pd.read_csv('./Chicago_Crimes_2012_to_2017.csv')\n",
    "#Se imprimen los 5 primeros registros del dataframe\n",
    "df.head() "
   ]
  },
  {
   "cell_type": "markdown",
   "metadata": {},
   "source": [
    "## EDA"
   ]
  },
  {
   "cell_type": "code",
   "execution_count": null,
   "metadata": {},
   "outputs": [],
   "source": [
    "#Se muestra la informacion de cada una de las columnas del dataframe para estar informado de que se le va a realizar mas adelante\n",
    "#Como puede ser tipo de columna, valores nulos, cantidad de columnas, etc.\n",
    "df.info()"
   ]
  },
  {
   "cell_type": "code",
   "execution_count": null,
   "metadata": {},
   "outputs": [],
   "source": [
    "#Se imprimen los primeros 5 registros\n",
    "df.head()"
   ]
  },
  {
   "cell_type": "code",
   "execution_count": null,
   "metadata": {},
   "outputs": [],
   "source": [
    "#Se imprime la cantidad de registros y columnas que tiene el dataframe\n",
    "df.shape"
   ]
  },
  {
   "cell_type": "code",
   "execution_count": null,
   "metadata": {},
   "outputs": [],
   "source": [
    "#Se imprime los valores que contienen la columna 'Primary Type' el cual se refiere a los tipos de delitos que se encuentran\n",
    "#en el dataset\n",
    "df['Primary Type'].value_counts()"
   ]
  },
  {
   "cell_type": "code",
   "execution_count": null,
   "metadata": {},
   "outputs": [],
   "source": [
    "#Se eliminan las columnas que no se van a utilizar manualmente. \n",
    "df.drop(['Block','Description','Location Description','Updated On','Location', 'Case Number', 'Date', 'IUCR','FBI Code', 'Unnamed: 0'], axis=1, inplace=True)"
   ]
  },
  {
   "cell_type": "code",
   "execution_count": null,
   "metadata": {},
   "outputs": [],
   "source": [
    "#Se imprime los 2 primeros registros para evidenciar y asegurar que los cambios si se hayan registrado\n",
    "df.head(2)"
   ]
  },
  {
   "cell_type": "code",
   "execution_count": null,
   "metadata": {},
   "outputs": [],
   "source": [
    "#Se muestra la informacion de cada una de las columnas del dataframe para estar informado de que se le va a realizar mas adelante\n",
    "df.info()"
   ]
  },
  {
   "cell_type": "code",
   "execution_count": null,
   "metadata": {},
   "outputs": [],
   "source": [
    "#Se grafica la cantidad de crimenes por año con la libreria plotly\n",
    "fig = px.histogram(df, x=\"Year\", color=\"Year\", marginal=\"box\", hover_data=df.columns)\n",
    "fig.show()"
   ]
  },
  {
   "cell_type": "markdown",
   "metadata": {},
   "source": [
    "## LIMPIEZA, MANEJO Y PREPROCESAMIENTO DE DATASET"
   ]
  },
  {
   "cell_type": "markdown",
   "metadata": {},
   "source": [
    "### IMPUTER"
   ]
  },
  {
   "cell_type": "code",
   "execution_count": null,
   "metadata": {},
   "outputs": [],
   "source": [
    "#Se inicializa el imputador el cual trabajara con la estrategia de: Promedio\n",
    "imputerNum = SimpleImputer(strategy='mean')\n",
    "#Al evidenciar las columnas que contenian valores nulos se realiza el imputador en esas columnas\n",
    "df[['District','Ward', 'Community Area', 'X Coordinate', 'Y Coordinate', 'Latitude', 'Longitude']] = imputerNum.fit_transform(df[['District','Ward', 'Community Area', 'X Coordinate', 'Y Coordinate', 'Latitude', 'Longitude']])\n"
   ]
  },
  {
   "cell_type": "code",
   "execution_count": null,
   "metadata": {},
   "outputs": [],
   "source": [
    "#Se muestra la informacion de cada una de las columnas del dataframe donde se evidencia los cambios que se realizaron\n",
    "df.info()"
   ]
  },
  {
   "cell_type": "code",
   "execution_count": null,
   "metadata": {},
   "outputs": [],
   "source": [
    "#mapa de delitos con la columna de df \"Latitude\" y \"Longitude\"\n",
    "mapa = folium.Map(location=[df.Latitude[8], df.Longitude[8]], zoom_start=13, tiles=\"Stamen Terrain\")\n",
    "for lat, lon in zip(df.Latitude[:10000], df.Longitude[:10000]):\n",
    "    folium.CircleMarker([lat, lon], radius=4, color='red', fill=True, fill_color='red', fill_opacity=0.1).add_to(mapa)\n",
    "mapa"
   ]
  },
  {
   "cell_type": "markdown",
   "metadata": {},
   "source": [
    "<p> En este mapa didactico se evidencia en que lugar hubo dichos delitos mostrando la ubicacion y pudiendo interactuar con el mapa para ver la cantidad de delitos cometidos en cada lugar</p>"
   ]
  },
  {
   "cell_type": "markdown",
   "metadata": {},
   "source": [
    "### PIPELINE Y TRANSFORMACION"
   ]
  },
  {
   "cell_type": "code",
   "execution_count": null,
   "metadata": {},
   "outputs": [],
   "source": [
    "#Se realiza el pipeline y column transformer para convertir las columnas en especifico de categoria a numericos \n",
    "\n",
    "#pipeNum = Pipeline([('num', StandardScaler())])\n",
    "pipeCat = Pipeline([('cat', OrdinalEncoder())])\n",
    "\n",
    "#columnita = ColumnTransformer([('num', pipeNum, ['ID', 'Beat', 'District', 'Ward', 'Community Area', 'X Coordinate', 'Y Coordinate', 'Year','Latitude', 'Longitude']), ('cat', pipeCat, ['Primary Type', 'Arrest', 'Domestic'])])\n",
    "columnita = ColumnTransformer([('cat', pipeCat, ['Primary Type', 'Arrest', 'Domestic'])])"
   ]
  },
  {
   "cell_type": "code",
   "execution_count": null,
   "metadata": {},
   "outputs": [],
   "source": [
    "#Se imprime los primeros 5 registros para evidenciar los cambios mas adelante\n",
    "df.head(5)"
   ]
  },
  {
   "cell_type": "code",
   "execution_count": null,
   "metadata": {},
   "outputs": [],
   "source": [
    "#Se realiza la transformacion de las columnas categoricas\n",
    "df[['Primary Type', 'Arrest', 'Domestic']] = columnita.fit_transform(df[['Primary Type', 'Arrest', 'Domestic']])\n",
    "#Se imprime los primeros 5 registros donde se evidencian los cambios \n",
    "df.head(5)"
   ]
  },
  {
   "cell_type": "code",
   "execution_count": null,
   "metadata": {},
   "outputs": [],
   "source": [
    "#Se reorganiza las columnas para dejar las columnas categoricas y el TARGET en la parte final\n",
    "df = df[['ID', 'Beat', 'District', 'Ward', 'Community Area', 'X Coordinate', 'Y Coordinate', 'Year','Latitude', 'Longitude', 'Primary Type', 'Domestic', 'Arrest']]"
   ]
  },
  {
   "cell_type": "code",
   "execution_count": null,
   "metadata": {},
   "outputs": [],
   "source": [
    "#Se imprime los primeros 2 registros para evidenciar los cambios registrados \n",
    "df.head(2)"
   ]
  },
  {
   "cell_type": "code",
   "execution_count": null,
   "metadata": {},
   "outputs": [],
   "source": [
    "#Se muestra la informacion de cada una de las columnas del dataframe para evidenciar los cambios registrados\n",
    "df.info()"
   ]
  },
  {
   "cell_type": "markdown",
   "metadata": {},
   "source": [
    "## FEATURES IMPORTANTES"
   ]
  },
  {
   "cell_type": "markdown",
   "metadata": {},
   "source": [
    "### DIVISION DE DATOS"
   ]
  },
  {
   "cell_type": "markdown",
   "metadata": {},
   "source": [
    "<b> Una vez se arreglo el dataframe se realizara una forma de hallar los features importantes para poder realizar el modelo de ML, para esto se utilizara el metodo de Decision Tree Classifier "
   ]
  },
  {
   "cell_type": "code",
   "execution_count": null,
   "metadata": {},
   "outputs": [],
   "source": [
    "#Se divide los features y el target\n",
    "X = df.drop('Arrest', axis=1)\n",
    "y = df['Arrest']"
   ]
  },
  {
   "cell_type": "code",
   "execution_count": null,
   "metadata": {},
   "outputs": [],
   "source": [
    "#Se evidencia los valores que contiene el Target\n",
    "y.value_counts()"
   ]
  },
  {
   "cell_type": "code",
   "execution_count": null,
   "metadata": {},
   "outputs": [],
   "source": [
    "#Se asegura de contener todos los features\n",
    "X"
   ]
  },
  {
   "cell_type": "code",
   "execution_count": null,
   "metadata": {},
   "outputs": [],
   "source": [
    "#Se divide el dataset en los conjuntos de entrenamiento y test\n",
    "X_train, X_test, y_train, y_test = train_test_split(X, y, test_size=0.2, random_state=42)"
   ]
  },
  {
   "cell_type": "markdown",
   "metadata": {},
   "source": [
    "### Modelo para las caracteristicas importantes"
   ]
  },
  {
   "cell_type": "code",
   "execution_count": null,
   "metadata": {},
   "outputs": [],
   "source": [
    "#crear el modelo de Arbol de decision para los features importantes\n",
    "dt = DecisionTreeClassifier()\n",
    "#se entrena el modelo\n",
    "dt.fit(X_train, y_train)"
   ]
  },
  {
   "cell_type": "code",
   "execution_count": null,
   "metadata": {},
   "outputs": [],
   "source": [
    "#Se realiza el score solo por curiosidad para evidenciar el procentaje al probar con los mismos datos en entrenamiento\n",
    "dt.score(X_train, y_train)"
   ]
  },
  {
   "cell_type": "code",
   "execution_count": null,
   "metadata": {},
   "outputs": [],
   "source": [
    "#Se realiza el score para evidenciar el procentaje al probar con los datos de test\n",
    "#Y comprobar el aumento al escoger las caracteristicas importantes\n",
    "dt.score(X_test, y_test)"
   ]
  },
  {
   "cell_type": "markdown",
   "metadata": {},
   "source": [
    "<p><b> ANTES DE MOSTRAR LAS CARACTERISTICAS IMPORTANTES:</b> </p>\n",
    "<p> LO ESPERADO POR EL AUTOR DEL CUADERNO AL MOSTRAR LOS FEATURES IMPORTANTES:</p>\n",
    "\n",
    "1. La columna ID, debe tener muy bajo puntaje por ser una columna que no deberia ser importante al ser practicamente un numero aleatorio\n",
    "2. La columna DOMESTIC, se espera que sea importante por ser una caracteristica que puede definir si el delito es o no domestico\n",
    "3. Columnas como Latitude y Longitude o Coordenadas de X y Y, podria ser que no sea importante ya que simplemente son coordenadas de un lugar, aun que se puede tener en cuenta la localidad, o barrio de la ciudad de Chicago para saber si es un lugar peligroso o no\n",
    "4. Por tal motivo se espera que la columna DISTRIT y COMMUNITY AREA, sean importantes ya que se puede tener en cuenta la localidad de la ciudad de Chicago para saber si es un lugar peligroso o no\n",
    "5. La columna PRIMARY TYPE, se espera que sea importante ya que es el tipo de delito que se comete, y se puede tener en cuenta para saber si es un delito grave o no"
   ]
  },
  {
   "cell_type": "markdown",
   "metadata": {},
   "source": [
    "### Se muestra las caracteristicas mas importantes"
   ]
  },
  {
   "cell_type": "code",
   "execution_count": null,
   "metadata": {},
   "outputs": [],
   "source": [
    "#Primera visualizacion de los important features\n",
    "dt.feature_importances_"
   ]
  },
  {
   "cell_type": "code",
   "execution_count": null,
   "metadata": {},
   "outputs": [],
   "source": [
    "#Se visualiza el un grafico de barras para tenerlo mas claro\n",
    "plt.figure(figsize=(12,8))\n",
    "plt.barh(X.columns, dt.feature_importances_)\n",
    "plt.show()"
   ]
  },
  {
   "cell_type": "markdown",
   "metadata": {},
   "source": [
    "<h3> A través de los datos obtenidos se pudo evidenciar esto: </h3>\n",
    "\n",
    "\n",
    "1. La columna ID fue considerada como el segundo feature mas importante del dataset, lo cual es un poco extraño ya que se esperaba que fuera la menos importante\n",
    "2. La columna DOMESTIC y DISTRICT fue considerada como las caracteristicas menos importante del dataset, lo cual es un poco extraño ya que se esperaba que fueran de las mas importantes\n",
    "3. La columna PRIMARY TYPE fue considerada como la caracteristica mas importante del dataset, lo cual es lo que se esperaba\n",
    "4. Columnas como Coordenadas de X y Y, o Latitude y Longitude, fueron consideradas como las caracteristicas importantes debido a qe se tiene en cuenta si el barrio de la ciudad de Chicago es peligroso o no\n"
   ]
  },
  {
   "cell_type": "code",
   "execution_count": null,
   "metadata": {},
   "outputs": [],
   "source": [
    "#Se realiza una prueba PERSONAL para verificar por que el feature Domestic no es tan importante\n",
    "#para verificar si el feature_importances_ es correcto o no\n",
    "X.iloc[60:100]"
   ]
  },
  {
   "cell_type": "code",
   "execution_count": null,
   "metadata": {},
   "outputs": [],
   "source": [
    "y.iloc[60:100].values.reshape(1,-1)"
   ]
  },
  {
   "cell_type": "markdown",
   "metadata": {},
   "source": [
    "<b> Al realizar la prueba se llega a la conclusion que aun que pueda ser una caracteristica importante, no fue asi debido a que la gran mayoria de los valores que contiene son de 1 valor, eso hace que aun que el TARGET vaya prediciendo diferentes valores, el modelo no pueda predecir bien debido a que la gran mayoria de los valores son de valor 0, por lo que se puede decir que la caracteristica no es importante al bajar dicha precision</b>"
   ]
  },
  {
   "cell_type": "markdown",
   "metadata": {},
   "source": [
    "## Prueba de caracteristicas mas importantes"
   ]
  },
  {
   "cell_type": "markdown",
   "metadata": {},
   "source": [
    "### PRUEBA #1: Se prueba con las caracteristicas mas importantes que se dijo en el modelo"
   ]
  },
  {
   "cell_type": "code",
   "execution_count": null,
   "metadata": {},
   "outputs": [],
   "source": [
    "#Se elimina las columnas que no fueron importantes\n",
    "X.drop(['Domestic','District','Community Area','Ward','Year'], axis=1, inplace=True)"
   ]
  },
  {
   "cell_type": "code",
   "execution_count": null,
   "metadata": {},
   "outputs": [],
   "source": [
    "X_train, X_test, y_train, y_test = train_test_split(X, y, test_size=0.2, random_state=42)"
   ]
  },
  {
   "cell_type": "code",
   "execution_count": null,
   "metadata": {},
   "outputs": [],
   "source": [
    "X_train.head(2)"
   ]
  },
  {
   "cell_type": "code",
   "execution_count": null,
   "metadata": {},
   "outputs": [],
   "source": [
    "#entrenar el modelo\n",
    "dt.fit(X_train, y_train)"
   ]
  },
  {
   "cell_type": "code",
   "execution_count": null,
   "metadata": {},
   "outputs": [],
   "source": [
    "#Se evalua el score del modelo nuevo con las caracteristicas importantes\n",
    "dt.score(X_test, y_test)"
   ]
  },
  {
   "cell_type": "markdown",
   "metadata": {},
   "source": [
    "<b> Se comprueba que el porcentaje de caracteristicas mas importantes es igual o incluso menor que el de la prueba anterior </b>\n",
    "<p> Por lo que se realiza una eliminacion manual extra de caracteristicas </p>"
   ]
  },
  {
   "cell_type": "markdown",
   "metadata": {},
   "source": [
    "### PRUEBA #2: Se realiza lo que se debio hacer desde un principio (Eliminar columna ID aun que hubiera sido de las más importantes)"
   ]
  },
  {
   "cell_type": "code",
   "execution_count": null,
   "metadata": {},
   "outputs": [],
   "source": [
    "#Se elimina manualmente la columna ID\n",
    "X.drop(['ID'], axis=1, inplace=True)\n",
    "X_train, X_test, y_train, y_test = train_test_split(X, y, test_size=0.2, random_state=42)\n",
    "dt.fit(X_train, y_train)"
   ]
  },
  {
   "cell_type": "code",
   "execution_count": null,
   "metadata": {},
   "outputs": [],
   "source": [
    "#Se evalua el score del nuevo dataset de columnas mas importantes\n",
    "dt.score(X_test, y_test)"
   ]
  },
  {
   "cell_type": "markdown",
   "metadata": {},
   "source": [
    "<b> Se evidencia el incremento del porcentaje de la validacion con las nuevas caracteristicas, teniendo asi un mejor rendimiento en la prediccion </b>"
   ]
  },
  {
   "cell_type": "markdown",
   "metadata": {},
   "source": [
    "## EXPORTACION DEL NUEVO DATASET"
   ]
  },
  {
   "cell_type": "code",
   "execution_count": null,
   "metadata": {},
   "outputs": [],
   "source": [
    "#Se concatena los features y targets escogidos para dejar el dataset completo\n",
    "df2 = pd.concat([X,y], axis=1)\n",
    "df2.to_csv('dataSetArrestosParcial.csv', index=False)\n"
   ]
  },
  {
   "cell_type": "markdown",
   "metadata": {},
   "source": [
    "# NUEVO DATASET"
   ]
  },
  {
   "cell_type": "code",
   "execution_count": 78,
   "metadata": {},
   "outputs": [
    {
     "data": {
      "text/html": [
       "<div>\n",
       "<style scoped>\n",
       "    .dataframe tbody tr th:only-of-type {\n",
       "        vertical-align: middle;\n",
       "    }\n",
       "\n",
       "    .dataframe tbody tr th {\n",
       "        vertical-align: top;\n",
       "    }\n",
       "\n",
       "    .dataframe thead th {\n",
       "        text-align: right;\n",
       "    }\n",
       "</style>\n",
       "<table border=\"1\" class=\"dataframe\">\n",
       "  <thead>\n",
       "    <tr style=\"text-align: right;\">\n",
       "      <th></th>\n",
       "      <th>Beat</th>\n",
       "      <th>X Coordinate</th>\n",
       "      <th>Y Coordinate</th>\n",
       "      <th>Latitude</th>\n",
       "      <th>Longitude</th>\n",
       "      <th>Primary Type</th>\n",
       "      <th>Arrest</th>\n",
       "    </tr>\n",
       "  </thead>\n",
       "  <tbody>\n",
       "    <tr>\n",
       "      <th>0</th>\n",
       "      <td>1523</td>\n",
       "      <td>1139890.0</td>\n",
       "      <td>1901675.0</td>\n",
       "      <td>41.886297</td>\n",
       "      <td>-87.761751</td>\n",
       "      <td>4.0</td>\n",
       "      <td>0.0</td>\n",
       "    </tr>\n",
       "    <tr>\n",
       "      <th>1</th>\n",
       "      <td>1232</td>\n",
       "      <td>1168776.0</td>\n",
       "      <td>1898793.0</td>\n",
       "      <td>41.877812</td>\n",
       "      <td>-87.655758</td>\n",
       "      <td>4.0</td>\n",
       "      <td>0.0</td>\n",
       "    </tr>\n",
       "    <tr>\n",
       "      <th>2</th>\n",
       "      <td>133</td>\n",
       "      <td>1179375.0</td>\n",
       "      <td>1886199.0</td>\n",
       "      <td>41.843017</td>\n",
       "      <td>-87.617227</td>\n",
       "      <td>4.0</td>\n",
       "      <td>0.0</td>\n",
       "    </tr>\n",
       "    <tr>\n",
       "      <th>3</th>\n",
       "      <td>1434</td>\n",
       "      <td>1160444.0</td>\n",
       "      <td>1910787.0</td>\n",
       "      <td>41.910901</td>\n",
       "      <td>-87.686019</td>\n",
       "      <td>4.0</td>\n",
       "      <td>0.0</td>\n",
       "    </tr>\n",
       "    <tr>\n",
       "      <th>4</th>\n",
       "      <td>1424</td>\n",
       "      <td>1162515.0</td>\n",
       "      <td>1909832.0</td>\n",
       "      <td>41.908237</td>\n",
       "      <td>-87.678437</td>\n",
       "      <td>4.0</td>\n",
       "      <td>0.0</td>\n",
       "    </tr>\n",
       "  </tbody>\n",
       "</table>\n",
       "</div>"
      ],
      "text/plain": [
       "   Beat  X Coordinate  Y Coordinate   Latitude  Longitude  Primary Type  \\\n",
       "0  1523     1139890.0     1901675.0  41.886297 -87.761751           4.0   \n",
       "1  1232     1168776.0     1898793.0  41.877812 -87.655758           4.0   \n",
       "2   133     1179375.0     1886199.0  41.843017 -87.617227           4.0   \n",
       "3  1434     1160444.0     1910787.0  41.910901 -87.686019           4.0   \n",
       "4  1424     1162515.0     1909832.0  41.908237 -87.678437           4.0   \n",
       "\n",
       "   Arrest  \n",
       "0     0.0  \n",
       "1     0.0  \n",
       "2     0.0  \n",
       "3     0.0  \n",
       "4     0.0  "
      ]
     },
     "execution_count": 78,
     "metadata": {},
     "output_type": "execute_result"
    }
   ],
   "source": [
    "#Se extrae el nuevo DataSet para trabajar como si fuera a empezar de 0 con el nuevo dataset\n",
    "dfParcial = pd.read_csv('./dataSetArrestosParcial.csv')\n",
    "#Se imprime los primeros 5 registros para comprobar los datos\n",
    "dfParcial.head()"
   ]
  },
  {
   "cell_type": "markdown",
   "metadata": {},
   "source": [
    "## EDA"
   ]
  },
  {
   "cell_type": "code",
   "execution_count": null,
   "metadata": {},
   "outputs": [],
   "source": [
    "#Se imprime la cantidad de registros y columnas que tiene el dataframe\n",
    "dfParcial.shape"
   ]
  },
  {
   "cell_type": "code",
   "execution_count": null,
   "metadata": {},
   "outputs": [],
   "source": [
    "#Se muestra la informacion de cada una de las columnas del dataframe para estar informado de que se le va a realizar mas adelante\n",
    "#Como puede ser tipo de columna, valores nulos, cantidad de columnas, etc.\n",
    "dfParcial.info()\n"
   ]
  },
  {
   "cell_type": "code",
   "execution_count": null,
   "metadata": {},
   "outputs": [],
   "source": [
    "#Se emprime los primeros 2 registros para comprobar los datos\n",
    "dfParcial.head(2)"
   ]
  },
  {
   "cell_type": "code",
   "execution_count": null,
   "metadata": {},
   "outputs": [],
   "source": [
    "#Se imprime los valores que contienen la columna 'Primary Type' el cual se refiere a los tipos de delitos que se encuentran\n",
    "#en el dataset\n",
    "dfParcial['Primary Type'].value_counts()"
   ]
  },
  {
   "cell_type": "code",
   "execution_count": null,
   "metadata": {},
   "outputs": [],
   "source": [
    "#Se grafica los diferentes tipos de delitos, comparando si hubo sentencia o no por delito\n",
    "fig = px.histogram(dfParcial, x=\"Primary Type\", color=\"Arrest\", barmode=\"group\", facet_col=\"Arrest\", facet_col_wrap=2)\n",
    "fig.show()"
   ]
  },
  {
   "cell_type": "code",
   "execution_count": null,
   "metadata": {},
   "outputs": [],
   "source": [
    "#Para poder evidenciar dicha grafica de forma mas clara se realiza la comparacion de ambos\n",
    "fig = px.histogram(dfParcial, x=\"Primary Type\", color=\"Arrest\", barmode=\"group\")\n",
    "fig.show()"
   ]
  },
  {
   "cell_type": "code",
   "execution_count": null,
   "metadata": {},
   "outputs": [],
   "source": [
    "#mapa de delitos con la columna de df \"Latitude\" y \"Longitude\" para presenciar la distribucion de los crimenes\n",
    "mapa = folium.Map(location=[df.Latitude[0], df.Longitude[0]], zoom_start=13)\n",
    "for lat, lon in zip(df.Latitude[:4000], df.Longitude[:4000]):\n",
    "    folium.CircleMarker([lat, lon], radius=4, color='red', fill=True, fill_color='red', fill_opacity=0.1).add_to(mapa)\n",
    "mapa"
   ]
  },
  {
   "cell_type": "markdown",
   "metadata": {},
   "source": [
    "## DIVISION DE DATOS"
   ]
  },
  {
   "cell_type": "code",
   "execution_count": 79,
   "metadata": {},
   "outputs": [],
   "source": [
    "#Se divide el dataset en Target y Features\n",
    "X = dfParcial.drop('Arrest', axis=1)\n",
    "y = dfParcial['Arrest']\n",
    "#Se separan en conjuntos de entrenamiento y prueba\n",
    "X_train, X_test, y_train, y_test = train_test_split(X, y, test_size=0.2, random_state=42)"
   ]
  },
  {
   "cell_type": "code",
   "execution_count": 6,
   "metadata": {},
   "outputs": [
    {
     "data": {
      "text/html": [
       "<div>\n",
       "<style scoped>\n",
       "    .dataframe tbody tr th:only-of-type {\n",
       "        vertical-align: middle;\n",
       "    }\n",
       "\n",
       "    .dataframe tbody tr th {\n",
       "        vertical-align: top;\n",
       "    }\n",
       "\n",
       "    .dataframe thead th {\n",
       "        text-align: right;\n",
       "    }\n",
       "</style>\n",
       "<table border=\"1\" class=\"dataframe\">\n",
       "  <thead>\n",
       "    <tr style=\"text-align: right;\">\n",
       "      <th></th>\n",
       "      <th>Beat</th>\n",
       "      <th>X Coordinate</th>\n",
       "      <th>Y Coordinate</th>\n",
       "      <th>Latitude</th>\n",
       "      <th>Longitude</th>\n",
       "      <th>Primary Type</th>\n",
       "    </tr>\n",
       "  </thead>\n",
       "  <tbody>\n",
       "    <tr>\n",
       "      <th>21119</th>\n",
       "      <td>1211</td>\n",
       "      <td>1157903.0</td>\n",
       "      <td>1907866.0</td>\n",
       "      <td>41.902938</td>\n",
       "      <td>-87.695433</td>\n",
       "      <td>2.0</td>\n",
       "    </tr>\n",
       "    <tr>\n",
       "      <th>222243</th>\n",
       "      <td>1434</td>\n",
       "      <td>1162771.0</td>\n",
       "      <td>1910740.0</td>\n",
       "      <td>41.910723</td>\n",
       "      <td>-87.677471</td>\n",
       "      <td>4.0</td>\n",
       "    </tr>\n",
       "    <tr>\n",
       "      <th>693884</th>\n",
       "      <td>1831</td>\n",
       "      <td>1175463.0</td>\n",
       "      <td>1903198.0</td>\n",
       "      <td>41.889752</td>\n",
       "      <td>-87.631073</td>\n",
       "      <td>4.0</td>\n",
       "    </tr>\n",
       "    <tr>\n",
       "      <th>406627</th>\n",
       "      <td>2431</td>\n",
       "      <td>1166984.0</td>\n",
       "      <td>1945439.0</td>\n",
       "      <td>42.005849</td>\n",
       "      <td>-87.660994</td>\n",
       "      <td>4.0</td>\n",
       "    </tr>\n",
       "    <tr>\n",
       "      <th>161685</th>\n",
       "      <td>331</td>\n",
       "      <td>1192054.0</td>\n",
       "      <td>1860145.0</td>\n",
       "      <td>41.771224</td>\n",
       "      <td>-87.571547</td>\n",
       "      <td>4.0</td>\n",
       "    </tr>\n",
       "    <tr>\n",
       "      <th>...</th>\n",
       "      <td>...</td>\n",
       "      <td>...</td>\n",
       "      <td>...</td>\n",
       "      <td>...</td>\n",
       "      <td>...</td>\n",
       "      <td>...</td>\n",
       "    </tr>\n",
       "    <tr>\n",
       "      <th>259178</th>\n",
       "      <td>1022</td>\n",
       "      <td>1155025.0</td>\n",
       "      <td>1893273.0</td>\n",
       "      <td>41.862951</td>\n",
       "      <td>-87.706396</td>\n",
       "      <td>0.0</td>\n",
       "    </tr>\n",
       "    <tr>\n",
       "      <th>365838</th>\n",
       "      <td>533</td>\n",
       "      <td>1183326.0</td>\n",
       "      <td>1817142.0</td>\n",
       "      <td>41.653426</td>\n",
       "      <td>-87.604874</td>\n",
       "      <td>0.0</td>\n",
       "    </tr>\n",
       "    <tr>\n",
       "      <th>131932</th>\n",
       "      <td>1332</td>\n",
       "      <td>1159476.0</td>\n",
       "      <td>1899930.0</td>\n",
       "      <td>41.881128</td>\n",
       "      <td>-87.689874</td>\n",
       "      <td>3.0</td>\n",
       "    </tr>\n",
       "    <tr>\n",
       "      <th>671155</th>\n",
       "      <td>331</td>\n",
       "      <td>1191523.0</td>\n",
       "      <td>1858333.0</td>\n",
       "      <td>41.766264</td>\n",
       "      <td>-87.573552</td>\n",
       "      <td>2.0</td>\n",
       "    </tr>\n",
       "    <tr>\n",
       "      <th>121958</th>\n",
       "      <td>1623</td>\n",
       "      <td>1138212.0</td>\n",
       "      <td>1928829.0</td>\n",
       "      <td>41.960841</td>\n",
       "      <td>-87.767255</td>\n",
       "      <td>4.0</td>\n",
       "    </tr>\n",
       "  </tbody>\n",
       "</table>\n",
       "<p>575261 rows × 6 columns</p>\n",
       "</div>"
      ],
      "text/plain": [
       "        Beat  X Coordinate  Y Coordinate   Latitude  Longitude  Primary Type\n",
       "21119   1211     1157903.0     1907866.0  41.902938 -87.695433           2.0\n",
       "222243  1434     1162771.0     1910740.0  41.910723 -87.677471           4.0\n",
       "693884  1831     1175463.0     1903198.0  41.889752 -87.631073           4.0\n",
       "406627  2431     1166984.0     1945439.0  42.005849 -87.660994           4.0\n",
       "161685   331     1192054.0     1860145.0  41.771224 -87.571547           4.0\n",
       "...      ...           ...           ...        ...        ...           ...\n",
       "259178  1022     1155025.0     1893273.0  41.862951 -87.706396           0.0\n",
       "365838   533     1183326.0     1817142.0  41.653426 -87.604874           0.0\n",
       "131932  1332     1159476.0     1899930.0  41.881128 -87.689874           3.0\n",
       "671155   331     1191523.0     1858333.0  41.766264 -87.573552           2.0\n",
       "121958  1623     1138212.0     1928829.0  41.960841 -87.767255           4.0\n",
       "\n",
       "[575261 rows x 6 columns]"
      ]
     },
     "execution_count": 6,
     "metadata": {},
     "output_type": "execute_result"
    }
   ],
   "source": [
    "#Se muestran los datos para luego hacer cambios y poder comprobar dichos cambios\n",
    "X_train"
   ]
  },
  {
   "cell_type": "markdown",
   "metadata": {},
   "source": [
    "## LIMPIEZA, MANEJO Y PREPROCESAMIENTO DE DATASET"
   ]
  },
  {
   "cell_type": "code",
   "execution_count": 80,
   "metadata": {},
   "outputs": [],
   "source": [
    "#Se crea el pipeline para Escalar los datos y entrenar el modelo\n",
    "pipeNum = Pipeline([('num', StandardScaler())])"
   ]
  },
  {
   "cell_type": "code",
   "execution_count": 81,
   "metadata": {},
   "outputs": [],
   "source": [
    "#Se transforman los datos Escalandolos con el pipeline\n",
    "X_train.iloc[:,:-1] = pipeNum.fit_transform(X_train.iloc[:,:-1])"
   ]
  },
  {
   "cell_type": "code",
   "execution_count": 66,
   "metadata": {},
   "outputs": [
    {
     "data": {
      "text/html": [
       "<div>\n",
       "<style scoped>\n",
       "    .dataframe tbody tr th:only-of-type {\n",
       "        vertical-align: middle;\n",
       "    }\n",
       "\n",
       "    .dataframe tbody tr th {\n",
       "        vertical-align: top;\n",
       "    }\n",
       "\n",
       "    .dataframe thead th {\n",
       "        text-align: right;\n",
       "    }\n",
       "</style>\n",
       "<table border=\"1\" class=\"dataframe\">\n",
       "  <thead>\n",
       "    <tr style=\"text-align: right;\">\n",
       "      <th></th>\n",
       "      <th>Beat</th>\n",
       "      <th>X Coordinate</th>\n",
       "      <th>Y Coordinate</th>\n",
       "      <th>Latitude</th>\n",
       "      <th>Longitude</th>\n",
       "      <th>Primary Type</th>\n",
       "    </tr>\n",
       "  </thead>\n",
       "  <tbody>\n",
       "    <tr>\n",
       "      <th>21119</th>\n",
       "      <td>0.066844</td>\n",
       "      <td>-0.359049</td>\n",
       "      <td>0.631007</td>\n",
       "      <td>0.630686</td>\n",
       "      <td>-0.356013</td>\n",
       "      <td>2.0</td>\n",
       "    </tr>\n",
       "    <tr>\n",
       "      <th>222243</th>\n",
       "      <td>0.390283</td>\n",
       "      <td>-0.083012</td>\n",
       "      <td>0.718399</td>\n",
       "      <td>0.716691</td>\n",
       "      <td>-0.073623</td>\n",
       "      <td>4.0</td>\n",
       "    </tr>\n",
       "    <tr>\n",
       "      <th>693884</th>\n",
       "      <td>0.966093</td>\n",
       "      <td>0.636680</td>\n",
       "      <td>0.489064</td>\n",
       "      <td>0.485032</td>\n",
       "      <td>0.655844</td>\n",
       "      <td>4.0</td>\n",
       "    </tr>\n",
       "    <tr>\n",
       "      <th>406627</th>\n",
       "      <td>1.836335</td>\n",
       "      <td>0.155884</td>\n",
       "      <td>1.773514</td>\n",
       "      <td>1.767492</td>\n",
       "      <td>0.185426</td>\n",
       "      <td>4.0</td>\n",
       "    </tr>\n",
       "    <tr>\n",
       "      <th>161685</th>\n",
       "      <td>-1.209511</td>\n",
       "      <td>1.577463</td>\n",
       "      <td>-0.820076</td>\n",
       "      <td>-0.824280</td>\n",
       "      <td>1.591697</td>\n",
       "      <td>4.0</td>\n",
       "    </tr>\n",
       "    <tr>\n",
       "      <th>...</th>\n",
       "      <td>...</td>\n",
       "      <td>...</td>\n",
       "      <td>...</td>\n",
       "      <td>...</td>\n",
       "      <td>...</td>\n",
       "      <td>...</td>\n",
       "    </tr>\n",
       "    <tr>\n",
       "      <th>259178</th>\n",
       "      <td>-0.207283</td>\n",
       "      <td>-0.522244</td>\n",
       "      <td>0.187268</td>\n",
       "      <td>0.188979</td>\n",
       "      <td>-0.528372</td>\n",
       "      <td>0.0</td>\n",
       "    </tr>\n",
       "    <tr>\n",
       "      <th>365838</th>\n",
       "      <td>-0.916529</td>\n",
       "      <td>1.082547</td>\n",
       "      <td>-2.127696</td>\n",
       "      <td>-2.125525</td>\n",
       "      <td>1.067739</td>\n",
       "      <td>0.0</td>\n",
       "    </tr>\n",
       "    <tr>\n",
       "      <th>131932</th>\n",
       "      <td>0.242342</td>\n",
       "      <td>-0.269853</td>\n",
       "      <td>0.389692</td>\n",
       "      <td>0.389771</td>\n",
       "      <td>-0.268611</td>\n",
       "      <td>3.0</td>\n",
       "    </tr>\n",
       "    <tr>\n",
       "      <th>671155</th>\n",
       "      <td>-1.209511</td>\n",
       "      <td>1.547353</td>\n",
       "      <td>-0.875175</td>\n",
       "      <td>-0.879064</td>\n",
       "      <td>1.560173</td>\n",
       "      <td>2.0</td>\n",
       "    </tr>\n",
       "    <tr>\n",
       "      <th>121958</th>\n",
       "      <td>0.664409</td>\n",
       "      <td>-1.475615</td>\n",
       "      <td>1.268443</td>\n",
       "      <td>1.270315</td>\n",
       "      <td>-1.485168</td>\n",
       "      <td>4.0</td>\n",
       "    </tr>\n",
       "  </tbody>\n",
       "</table>\n",
       "<p>575261 rows × 6 columns</p>\n",
       "</div>"
      ],
      "text/plain": [
       "            Beat  X Coordinate  Y Coordinate  Latitude  Longitude  \\\n",
       "21119   0.066844     -0.359049      0.631007  0.630686  -0.356013   \n",
       "222243  0.390283     -0.083012      0.718399  0.716691  -0.073623   \n",
       "693884  0.966093      0.636680      0.489064  0.485032   0.655844   \n",
       "406627  1.836335      0.155884      1.773514  1.767492   0.185426   \n",
       "161685 -1.209511      1.577463     -0.820076 -0.824280   1.591697   \n",
       "...          ...           ...           ...       ...        ...   \n",
       "259178 -0.207283     -0.522244      0.187268  0.188979  -0.528372   \n",
       "365838 -0.916529      1.082547     -2.127696 -2.125525   1.067739   \n",
       "131932  0.242342     -0.269853      0.389692  0.389771  -0.268611   \n",
       "671155 -1.209511      1.547353     -0.875175 -0.879064   1.560173   \n",
       "121958  0.664409     -1.475615      1.268443  1.270315  -1.485168   \n",
       "\n",
       "        Primary Type  \n",
       "21119            2.0  \n",
       "222243           4.0  \n",
       "693884           4.0  \n",
       "406627           4.0  \n",
       "161685           4.0  \n",
       "...              ...  \n",
       "259178           0.0  \n",
       "365838           0.0  \n",
       "131932           3.0  \n",
       "671155           2.0  \n",
       "121958           4.0  \n",
       "\n",
       "[575261 rows x 6 columns]"
      ]
     },
     "execution_count": 66,
     "metadata": {},
     "output_type": "execute_result"
    }
   ],
   "source": [
    "#Se comprueba los cambios realizados\n",
    "X_train"
   ]
  },
  {
   "cell_type": "markdown",
   "metadata": {},
   "source": [
    "## PROMEDIO Y DESVIACION ESTANDAR"
   ]
  },
  {
   "cell_type": "code",
   "execution_count": null,
   "metadata": {},
   "outputs": [],
   "source": [
    "#Se usa el metodo describe para poder ver diferentes tipos de estadisticas de los datos.\n",
    "dfParcial.describe()"
   ]
  },
  {
   "cell_type": "code",
   "execution_count": null,
   "metadata": {},
   "outputs": [],
   "source": [
    "dfParcial.mean()"
   ]
  },
  {
   "cell_type": "code",
   "execution_count": null,
   "metadata": {},
   "outputs": [],
   "source": [
    "dfParcial.std()"
   ]
  },
  {
   "cell_type": "markdown",
   "metadata": {},
   "source": [
    "**Se puede presenciar como los resultados del cuaderno son exactamente igual a los resultados que se pueden evidenciar en C++**"
   ]
  },
  {
   "cell_type": "markdown",
   "metadata": {},
   "source": [
    "## EVALUAR MODELOS"
   ]
  },
  {
   "cell_type": "markdown",
   "metadata": {},
   "source": [
    "<h3><b>A continuacion se realiza los modelos de aprendizaje, en los cuales se realizara Regresion Logistica y Descenso del Gradiente\n",
    "el cual se va a comparar los resultados con los presentados en C++ </b></h3>"
   ]
  },
  {
   "cell_type": "markdown",
   "metadata": {},
   "source": [
    "### REGRESION LOGISTICA"
   ]
  },
  {
   "cell_type": "code",
   "execution_count": 82,
   "metadata": {},
   "outputs": [
    {
     "data": {
      "text/html": [
       "<style>#sk-container-id-23 {color: black;background-color: white;}#sk-container-id-23 pre{padding: 0;}#sk-container-id-23 div.sk-toggleable {background-color: white;}#sk-container-id-23 label.sk-toggleable__label {cursor: pointer;display: block;width: 100%;margin-bottom: 0;padding: 0.3em;box-sizing: border-box;text-align: center;}#sk-container-id-23 label.sk-toggleable__label-arrow:before {content: \"▸\";float: left;margin-right: 0.25em;color: #696969;}#sk-container-id-23 label.sk-toggleable__label-arrow:hover:before {color: black;}#sk-container-id-23 div.sk-estimator:hover label.sk-toggleable__label-arrow:before {color: black;}#sk-container-id-23 div.sk-toggleable__content {max-height: 0;max-width: 0;overflow: hidden;text-align: left;background-color: #f0f8ff;}#sk-container-id-23 div.sk-toggleable__content pre {margin: 0.2em;color: black;border-radius: 0.25em;background-color: #f0f8ff;}#sk-container-id-23 input.sk-toggleable__control:checked~div.sk-toggleable__content {max-height: 200px;max-width: 100%;overflow: auto;}#sk-container-id-23 input.sk-toggleable__control:checked~label.sk-toggleable__label-arrow:before {content: \"▾\";}#sk-container-id-23 div.sk-estimator input.sk-toggleable__control:checked~label.sk-toggleable__label {background-color: #d4ebff;}#sk-container-id-23 div.sk-label input.sk-toggleable__control:checked~label.sk-toggleable__label {background-color: #d4ebff;}#sk-container-id-23 input.sk-hidden--visually {border: 0;clip: rect(1px 1px 1px 1px);clip: rect(1px, 1px, 1px, 1px);height: 1px;margin: -1px;overflow: hidden;padding: 0;position: absolute;width: 1px;}#sk-container-id-23 div.sk-estimator {font-family: monospace;background-color: #f0f8ff;border: 1px dotted black;border-radius: 0.25em;box-sizing: border-box;margin-bottom: 0.5em;}#sk-container-id-23 div.sk-estimator:hover {background-color: #d4ebff;}#sk-container-id-23 div.sk-parallel-item::after {content: \"\";width: 100%;border-bottom: 1px solid gray;flex-grow: 1;}#sk-container-id-23 div.sk-label:hover label.sk-toggleable__label {background-color: #d4ebff;}#sk-container-id-23 div.sk-serial::before {content: \"\";position: absolute;border-left: 1px solid gray;box-sizing: border-box;top: 0;bottom: 0;left: 50%;z-index: 0;}#sk-container-id-23 div.sk-serial {display: flex;flex-direction: column;align-items: center;background-color: white;padding-right: 0.2em;padding-left: 0.2em;position: relative;}#sk-container-id-23 div.sk-item {position: relative;z-index: 1;}#sk-container-id-23 div.sk-parallel {display: flex;align-items: stretch;justify-content: center;background-color: white;position: relative;}#sk-container-id-23 div.sk-item::before, #sk-container-id-23 div.sk-parallel-item::before {content: \"\";position: absolute;border-left: 1px solid gray;box-sizing: border-box;top: 0;bottom: 0;left: 50%;z-index: -1;}#sk-container-id-23 div.sk-parallel-item {display: flex;flex-direction: column;z-index: 1;position: relative;background-color: white;}#sk-container-id-23 div.sk-parallel-item:first-child::after {align-self: flex-end;width: 50%;}#sk-container-id-23 div.sk-parallel-item:last-child::after {align-self: flex-start;width: 50%;}#sk-container-id-23 div.sk-parallel-item:only-child::after {width: 0;}#sk-container-id-23 div.sk-dashed-wrapped {border: 1px dashed gray;margin: 0 0.4em 0.5em 0.4em;box-sizing: border-box;padding-bottom: 0.4em;background-color: white;}#sk-container-id-23 div.sk-label label {font-family: monospace;font-weight: bold;display: inline-block;line-height: 1.2em;}#sk-container-id-23 div.sk-label-container {text-align: center;}#sk-container-id-23 div.sk-container {/* jupyter's `normalize.less` sets `[hidden] { display: none; }` but bootstrap.min.css set `[hidden] { display: none !important; }` so we also need the `!important` here to be able to override the default hidden behavior on the sphinx rendered scikit-learn.org. See: https://github.com/scikit-learn/scikit-learn/issues/21755 */display: inline-block !important;position: relative;}#sk-container-id-23 div.sk-text-repr-fallback {display: none;}</style><div id=\"sk-container-id-23\" class=\"sk-top-container\"><div class=\"sk-text-repr-fallback\"><pre>LogisticRegression()</pre><b>In a Jupyter environment, please rerun this cell to show the HTML representation or trust the notebook. <br />On GitHub, the HTML representation is unable to render, please try loading this page with nbviewer.org.</b></div><div class=\"sk-container\" hidden><div class=\"sk-item\"><div class=\"sk-estimator sk-toggleable\"><input class=\"sk-toggleable__control sk-hidden--visually\" id=\"sk-estimator-id-23\" type=\"checkbox\" checked><label for=\"sk-estimator-id-23\" class=\"sk-toggleable__label sk-toggleable__label-arrow\">LogisticRegression</label><div class=\"sk-toggleable__content\"><pre>LogisticRegression()</pre></div></div></div></div></div>"
      ],
      "text/plain": [
       "LogisticRegression()"
      ]
     },
     "execution_count": 82,
     "metadata": {},
     "output_type": "execute_result"
    }
   ],
   "source": [
    "#Se realiza el modelo de regresion Logistica para poder predecir si hubo sentencia o no\n",
    "modeloLogistic = LogisticRegression()\n",
    "#Se entrena el modelo\n",
    "modeloLogistic.fit(X_train, y_train)"
   ]
  },
  {
   "cell_type": "code",
   "execution_count": 83,
   "metadata": {},
   "outputs": [],
   "source": [
    "##Se realiza el preprocesamiento de los datos del test para poder realizar la prediccion debido a que los datos con los que se entreno\n",
    "##el modelo estaban escalados\n",
    "\n",
    "###IMPORTANTE: Con los datos de test se transforman directamente, no se usa el metodo de fit_transform debido a que los datos de test\n",
    "### no se deben ajustar por que se reemplazaria el preprocesamiento que se realizo con los datos de train, solo se deben de\n",
    "### transformar para poder realizar la prediccion\n",
    "X_test.iloc[:,:-1] = pipeNum.transform(X_test.iloc[:,:-1])"
   ]
  },
  {
   "cell_type": "code",
   "execution_count": 84,
   "metadata": {},
   "outputs": [
    {
     "data": {
      "text/plain": [
       "0.7058394059075486"
      ]
     },
     "execution_count": 84,
     "metadata": {},
     "output_type": "execute_result"
    }
   ],
   "source": [
    "#Se realiza el score para evidenciar el porcentaje al probar con los datos de test\n",
    "modeloLogistic.score(X_test, y_test)"
   ]
  },
  {
   "cell_type": "markdown",
   "metadata": {},
   "source": [
    "### SGD"
   ]
  },
  {
   "cell_type": "code",
   "execution_count": 104,
   "metadata": {},
   "outputs": [
    {
     "data": {
      "text/html": [
       "<style>#sk-container-id-34 {color: black;background-color: white;}#sk-container-id-34 pre{padding: 0;}#sk-container-id-34 div.sk-toggleable {background-color: white;}#sk-container-id-34 label.sk-toggleable__label {cursor: pointer;display: block;width: 100%;margin-bottom: 0;padding: 0.3em;box-sizing: border-box;text-align: center;}#sk-container-id-34 label.sk-toggleable__label-arrow:before {content: \"▸\";float: left;margin-right: 0.25em;color: #696969;}#sk-container-id-34 label.sk-toggleable__label-arrow:hover:before {color: black;}#sk-container-id-34 div.sk-estimator:hover label.sk-toggleable__label-arrow:before {color: black;}#sk-container-id-34 div.sk-toggleable__content {max-height: 0;max-width: 0;overflow: hidden;text-align: left;background-color: #f0f8ff;}#sk-container-id-34 div.sk-toggleable__content pre {margin: 0.2em;color: black;border-radius: 0.25em;background-color: #f0f8ff;}#sk-container-id-34 input.sk-toggleable__control:checked~div.sk-toggleable__content {max-height: 200px;max-width: 100%;overflow: auto;}#sk-container-id-34 input.sk-toggleable__control:checked~label.sk-toggleable__label-arrow:before {content: \"▾\";}#sk-container-id-34 div.sk-estimator input.sk-toggleable__control:checked~label.sk-toggleable__label {background-color: #d4ebff;}#sk-container-id-34 div.sk-label input.sk-toggleable__control:checked~label.sk-toggleable__label {background-color: #d4ebff;}#sk-container-id-34 input.sk-hidden--visually {border: 0;clip: rect(1px 1px 1px 1px);clip: rect(1px, 1px, 1px, 1px);height: 1px;margin: -1px;overflow: hidden;padding: 0;position: absolute;width: 1px;}#sk-container-id-34 div.sk-estimator {font-family: monospace;background-color: #f0f8ff;border: 1px dotted black;border-radius: 0.25em;box-sizing: border-box;margin-bottom: 0.5em;}#sk-container-id-34 div.sk-estimator:hover {background-color: #d4ebff;}#sk-container-id-34 div.sk-parallel-item::after {content: \"\";width: 100%;border-bottom: 1px solid gray;flex-grow: 1;}#sk-container-id-34 div.sk-label:hover label.sk-toggleable__label {background-color: #d4ebff;}#sk-container-id-34 div.sk-serial::before {content: \"\";position: absolute;border-left: 1px solid gray;box-sizing: border-box;top: 0;bottom: 0;left: 50%;z-index: 0;}#sk-container-id-34 div.sk-serial {display: flex;flex-direction: column;align-items: center;background-color: white;padding-right: 0.2em;padding-left: 0.2em;position: relative;}#sk-container-id-34 div.sk-item {position: relative;z-index: 1;}#sk-container-id-34 div.sk-parallel {display: flex;align-items: stretch;justify-content: center;background-color: white;position: relative;}#sk-container-id-34 div.sk-item::before, #sk-container-id-34 div.sk-parallel-item::before {content: \"\";position: absolute;border-left: 1px solid gray;box-sizing: border-box;top: 0;bottom: 0;left: 50%;z-index: -1;}#sk-container-id-34 div.sk-parallel-item {display: flex;flex-direction: column;z-index: 1;position: relative;background-color: white;}#sk-container-id-34 div.sk-parallel-item:first-child::after {align-self: flex-end;width: 50%;}#sk-container-id-34 div.sk-parallel-item:last-child::after {align-self: flex-start;width: 50%;}#sk-container-id-34 div.sk-parallel-item:only-child::after {width: 0;}#sk-container-id-34 div.sk-dashed-wrapped {border: 1px dashed gray;margin: 0 0.4em 0.5em 0.4em;box-sizing: border-box;padding-bottom: 0.4em;background-color: white;}#sk-container-id-34 div.sk-label label {font-family: monospace;font-weight: bold;display: inline-block;line-height: 1.2em;}#sk-container-id-34 div.sk-label-container {text-align: center;}#sk-container-id-34 div.sk-container {/* jupyter's `normalize.less` sets `[hidden] { display: none; }` but bootstrap.min.css set `[hidden] { display: none !important; }` so we also need the `!important` here to be able to override the default hidden behavior on the sphinx rendered scikit-learn.org. See: https://github.com/scikit-learn/scikit-learn/issues/21755 */display: inline-block !important;position: relative;}#sk-container-id-34 div.sk-text-repr-fallback {display: none;}</style><div id=\"sk-container-id-34\" class=\"sk-top-container\"><div class=\"sk-text-repr-fallback\"><pre>SGDClassifier(tol=0.01)</pre><b>In a Jupyter environment, please rerun this cell to show the HTML representation or trust the notebook. <br />On GitHub, the HTML representation is unable to render, please try loading this page with nbviewer.org.</b></div><div class=\"sk-container\" hidden><div class=\"sk-item\"><div class=\"sk-estimator sk-toggleable\"><input class=\"sk-toggleable__control sk-hidden--visually\" id=\"sk-estimator-id-34\" type=\"checkbox\" checked><label for=\"sk-estimator-id-34\" class=\"sk-toggleable__label sk-toggleable__label-arrow\">SGDClassifier</label><div class=\"sk-toggleable__content\"><pre>SGDClassifier(tol=0.01)</pre></div></div></div></div></div>"
      ],
      "text/plain": [
       "SGDClassifier(tol=0.01)"
      ]
     },
     "execution_count": 104,
     "metadata": {},
     "output_type": "execute_result"
    }
   ],
   "source": [
    "#Se realiza el modelo de Descenso del Gradiente para poder predecir si hubo sentencia o no\n",
    "modeloSGD = SGDClassifier(max_iter=1000, tol=0.01)\n",
    "#Se entrena el modelo\n",
    "modeloSGD.fit(X_train, y_train)\n"
   ]
  },
  {
   "cell_type": "code",
   "execution_count": 105,
   "metadata": {},
   "outputs": [
    {
     "data": {
      "text/plain": [
       "0.7082730711464649"
      ]
     },
     "execution_count": 105,
     "metadata": {},
     "output_type": "execute_result"
    }
   ],
   "source": [
    "#Se realiza el score para evidenciar el porcentaje al probar con los datos de test\n",
    "modeloSGD.score(X_test, y_test)"
   ]
  },
  {
   "cell_type": "markdown",
   "metadata": {},
   "source": [
    "<h2>Se puede evidenciar como el mejor modelo es el de Descenso del Grafiente, el cual tiene un porcentaje de 70.82%, un poco mejor que el de regresion Logistica, esto debido a que al usar este algoritmo de optimizacion permite disminuir el error que se puede evidenciar al predecir el target</h2>"
   ]
  },
  {
   "cell_type": "markdown",
   "metadata": {},
   "source": [
    "# Conclusiones"
   ]
  },
  {
   "cell_type": "markdown",
   "metadata": {},
   "source": [
    "* <h3>Se evidencia como la metrica Accuracy usando el metodo Score, nos da un mejor resultado al usar el algoritmo de optimizacion SGD\n",
    "* <h3>Comparando los resultados de C++ y Python, se puede evidenciar como en C++ las metricas dio un resultado mucho mejor al momento de predecir, lo cual se intento replicar en Python\n",
    "* <h3>Se evidencia como el algoritmo de optimizacion SGD, permite disminuir el error que se puede evidenciar al predecir el target\n",
    "* <h3>El porcentaje de predicción no es demasiado alto, esto ya que los Features son coordenadas, direcciones, no es tan facil predecir correctamente como si fueran unas caracteristicas mas significativas como el color de los ojos, el color de la piel, etc.\n",
    "* <h3>El modulo folium permite visualizar los datos en un mapa, lo cual es muy util para poder visualizar los datos de una manera mas facil y entendible\n",
    "* <h3>Se pudo realizar un trabajo completo de ingeniero de datos, desde la extraccion de datos, limpieza, manejo, preprocesamiento, visualizacion, y esto atrajo el proceso de buscar diferentes maneras de poder realizar el mismo trabajo, lo cual fue muy interesante y enriquecedor."
   ]
  },
  {
   "cell_type": "markdown",
   "metadata": {},
   "source": [
    "# Referencias"
   ]
  },
  {
   "cell_type": "markdown",
   "metadata": {},
   "source": [
    "* <h3>https://github.com/DanielOlarte-GitHub/DataSetsFamosos\n",
    "* <h3>https://github.com/DanielOlarte-GitHub/MetricasDeRendimiento/tree/main/TERCERPARCIAL\n",
    "* <h3>https://es.khanacademy.org/math/multivariable-calculus/applications-of-multivariable-derivatives/optimizing-multivariable-functions/a/what-is-gradient-descent#:~:text=El%20descenso%20de%20gradiente%20es%20un%20algoritmo%20que%20estima%20num%C3%A9ricamente,0%20como%20hemos%20visto%20antes.\n",
    "* <h3>https://es.coursera.org/lecture/introduccion-al-aprendizaje-profundo/descenso-de-gradiente-aplicado-a-una-regresion-logistica-nM1Av"
   ]
  }
 ],
 "metadata": {
  "kernelspec": {
   "display_name": "Python 3.10.6 64-bit",
   "language": "python",
   "name": "python3"
  },
  "language_info": {
   "codemirror_mode": {
    "name": "ipython",
    "version": 3
   },
   "file_extension": ".py",
   "mimetype": "text/x-python",
   "name": "python",
   "nbconvert_exporter": "python",
   "pygments_lexer": "ipython3",
   "version": "3.10.6"
  },
  "orig_nbformat": 4,
  "vscode": {
   "interpreter": {
    "hash": "916dbcbb3f70747c44a77c7bcd40155683ae19c65e1c03b4aa3499c5328201f1"
   }
  }
 },
 "nbformat": 4,
 "nbformat_minor": 2
}
