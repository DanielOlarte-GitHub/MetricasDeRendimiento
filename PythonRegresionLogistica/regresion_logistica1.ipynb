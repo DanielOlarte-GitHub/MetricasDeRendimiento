{
  "cells": [
    {
      "cell_type": "markdown",
      "metadata": {
        "id": "rr6gJZ2lBSGd"
      },
      "source": [
        "**Fecha:** 17-08-2022\n",
        "\n",
        "**Autor:**  *Ivan David Rodriguez Leiva*\n",
        "\n",
        "**Materia:** *Métricas de rendimiento*\n",
        "\n",
        "**Tópico:** *Regresión logistica en Machine Learning*"
      ]
    },
    {
      "cell_type": "markdown",
      "metadata": {
        "id": "XiRCcs_SBSGf"
      },
      "source": [
        "# **Introducción a Regresión Ligística**"
      ]
    },
    {
      "cell_type": "markdown",
      "metadata": {
        "id": "7PGx7E4DBSGg"
      },
      "source": [
        "*  **La tarea de prediccion es determinar si una persona tiene ingresos superiores a 50k o no al año**\n",
        "* A continuacion se presentan los pasos pata tener en cuenta para determinar la tarea de clasificación\n"
      ]
    },
    {
      "cell_type": "markdown",
      "metadata": {
        "id": "1q10aC6jBSGh"
      },
      "source": [
        "### **Exploración y Análisis de los datos**"
      ]
    },
    {
      "cell_type": "code",
      "execution_count": null,
      "metadata": {
        "id": "M20GTSZ0BSGh"
      },
      "outputs": [],
      "source": [
        "# Se importan las biliotecas necesarias\n",
        "import pandas as pd\n",
        "import numpy as np\n",
        "import seaborn  as sns\n",
        "import matplotlib.pyplot as plt\n",
        "from pandas.core.reshape.reshape import get_dummies"
      ]
    },
    {
      "cell_type": "code",
      "execution_count": null,
      "metadata": {
        "colab": {
          "base_uri": "https://localhost:8080/",
          "height": 337
        },
        "id": "mSUN_9F0BSGi",
        "outputId": "613a75b4-19c7-4a09-a5be-74f8c834f104"
      },
      "outputs": [
        {
          "output_type": "execute_result",
          "data": {
            "text/plain": [
              "   age          workclass  fnlwgt   education  education-num  \\\n",
              "0   39          State-gov   77516   Bachelors             13   \n",
              "1   50   Self-emp-not-inc   83311   Bachelors             13   \n",
              "2   38            Private  215646     HS-grad              9   \n",
              "3   53            Private  234721        11th              7   \n",
              "4   28            Private  338409   Bachelors             13   \n",
              "\n",
              "        marital-status          occupation    relationship    race      sex  \\\n",
              "0        Never-married        Adm-clerical   Not-in-family   White     Male   \n",
              "1   Married-civ-spouse     Exec-managerial         Husband   White     Male   \n",
              "2             Divorced   Handlers-cleaners   Not-in-family   White     Male   \n",
              "3   Married-civ-spouse   Handlers-cleaners         Husband   Black     Male   \n",
              "4   Married-civ-spouse      Prof-specialty            Wife   Black   Female   \n",
              "\n",
              "   capital-gain  capital-loss  hours-per-week  native-country  salary  \n",
              "0          2174             0              40   United-States   <=50K  \n",
              "1             0             0              13   United-States   <=50K  \n",
              "2             0             0              40   United-States   <=50K  \n",
              "3             0             0              40   United-States   <=50K  \n",
              "4             0             0              40            Cuba   <=50K  "
            ],
            "text/html": [
              "\n",
              "  <div id=\"df-77f01b49-7538-40be-be5d-91903dcd14b5\">\n",
              "    <div class=\"colab-df-container\">\n",
              "      <div>\n",
              "<style scoped>\n",
              "    .dataframe tbody tr th:only-of-type {\n",
              "        vertical-align: middle;\n",
              "    }\n",
              "\n",
              "    .dataframe tbody tr th {\n",
              "        vertical-align: top;\n",
              "    }\n",
              "\n",
              "    .dataframe thead th {\n",
              "        text-align: right;\n",
              "    }\n",
              "</style>\n",
              "<table border=\"1\" class=\"dataframe\">\n",
              "  <thead>\n",
              "    <tr style=\"text-align: right;\">\n",
              "      <th></th>\n",
              "      <th>age</th>\n",
              "      <th>workclass</th>\n",
              "      <th>fnlwgt</th>\n",
              "      <th>education</th>\n",
              "      <th>education-num</th>\n",
              "      <th>marital-status</th>\n",
              "      <th>occupation</th>\n",
              "      <th>relationship</th>\n",
              "      <th>race</th>\n",
              "      <th>sex</th>\n",
              "      <th>capital-gain</th>\n",
              "      <th>capital-loss</th>\n",
              "      <th>hours-per-week</th>\n",
              "      <th>native-country</th>\n",
              "      <th>salary</th>\n",
              "    </tr>\n",
              "  </thead>\n",
              "  <tbody>\n",
              "    <tr>\n",
              "      <th>0</th>\n",
              "      <td>39</td>\n",
              "      <td>State-gov</td>\n",
              "      <td>77516</td>\n",
              "      <td>Bachelors</td>\n",
              "      <td>13</td>\n",
              "      <td>Never-married</td>\n",
              "      <td>Adm-clerical</td>\n",
              "      <td>Not-in-family</td>\n",
              "      <td>White</td>\n",
              "      <td>Male</td>\n",
              "      <td>2174</td>\n",
              "      <td>0</td>\n",
              "      <td>40</td>\n",
              "      <td>United-States</td>\n",
              "      <td>&lt;=50K</td>\n",
              "    </tr>\n",
              "    <tr>\n",
              "      <th>1</th>\n",
              "      <td>50</td>\n",
              "      <td>Self-emp-not-inc</td>\n",
              "      <td>83311</td>\n",
              "      <td>Bachelors</td>\n",
              "      <td>13</td>\n",
              "      <td>Married-civ-spouse</td>\n",
              "      <td>Exec-managerial</td>\n",
              "      <td>Husband</td>\n",
              "      <td>White</td>\n",
              "      <td>Male</td>\n",
              "      <td>0</td>\n",
              "      <td>0</td>\n",
              "      <td>13</td>\n",
              "      <td>United-States</td>\n",
              "      <td>&lt;=50K</td>\n",
              "    </tr>\n",
              "    <tr>\n",
              "      <th>2</th>\n",
              "      <td>38</td>\n",
              "      <td>Private</td>\n",
              "      <td>215646</td>\n",
              "      <td>HS-grad</td>\n",
              "      <td>9</td>\n",
              "      <td>Divorced</td>\n",
              "      <td>Handlers-cleaners</td>\n",
              "      <td>Not-in-family</td>\n",
              "      <td>White</td>\n",
              "      <td>Male</td>\n",
              "      <td>0</td>\n",
              "      <td>0</td>\n",
              "      <td>40</td>\n",
              "      <td>United-States</td>\n",
              "      <td>&lt;=50K</td>\n",
              "    </tr>\n",
              "    <tr>\n",
              "      <th>3</th>\n",
              "      <td>53</td>\n",
              "      <td>Private</td>\n",
              "      <td>234721</td>\n",
              "      <td>11th</td>\n",
              "      <td>7</td>\n",
              "      <td>Married-civ-spouse</td>\n",
              "      <td>Handlers-cleaners</td>\n",
              "      <td>Husband</td>\n",
              "      <td>Black</td>\n",
              "      <td>Male</td>\n",
              "      <td>0</td>\n",
              "      <td>0</td>\n",
              "      <td>40</td>\n",
              "      <td>United-States</td>\n",
              "      <td>&lt;=50K</td>\n",
              "    </tr>\n",
              "    <tr>\n",
              "      <th>4</th>\n",
              "      <td>28</td>\n",
              "      <td>Private</td>\n",
              "      <td>338409</td>\n",
              "      <td>Bachelors</td>\n",
              "      <td>13</td>\n",
              "      <td>Married-civ-spouse</td>\n",
              "      <td>Prof-specialty</td>\n",
              "      <td>Wife</td>\n",
              "      <td>Black</td>\n",
              "      <td>Female</td>\n",
              "      <td>0</td>\n",
              "      <td>0</td>\n",
              "      <td>40</td>\n",
              "      <td>Cuba</td>\n",
              "      <td>&lt;=50K</td>\n",
              "    </tr>\n",
              "  </tbody>\n",
              "</table>\n",
              "</div>\n",
              "      <button class=\"colab-df-convert\" onclick=\"convertToInteractive('df-77f01b49-7538-40be-be5d-91903dcd14b5')\"\n",
              "              title=\"Convert this dataframe to an interactive table.\"\n",
              "              style=\"display:none;\">\n",
              "        \n",
              "  <svg xmlns=\"http://www.w3.org/2000/svg\" height=\"24px\"viewBox=\"0 0 24 24\"\n",
              "       width=\"24px\">\n",
              "    <path d=\"M0 0h24v24H0V0z\" fill=\"none\"/>\n",
              "    <path d=\"M18.56 5.44l.94 2.06.94-2.06 2.06-.94-2.06-.94-.94-2.06-.94 2.06-2.06.94zm-11 1L8.5 8.5l.94-2.06 2.06-.94-2.06-.94L8.5 2.5l-.94 2.06-2.06.94zm10 10l.94 2.06.94-2.06 2.06-.94-2.06-.94-.94-2.06-.94 2.06-2.06.94z\"/><path d=\"M17.41 7.96l-1.37-1.37c-.4-.4-.92-.59-1.43-.59-.52 0-1.04.2-1.43.59L10.3 9.45l-7.72 7.72c-.78.78-.78 2.05 0 2.83L4 21.41c.39.39.9.59 1.41.59.51 0 1.02-.2 1.41-.59l7.78-7.78 2.81-2.81c.8-.78.8-2.07 0-2.86zM5.41 20L4 18.59l7.72-7.72 1.47 1.35L5.41 20z\"/>\n",
              "  </svg>\n",
              "      </button>\n",
              "      \n",
              "  <style>\n",
              "    .colab-df-container {\n",
              "      display:flex;\n",
              "      flex-wrap:wrap;\n",
              "      gap: 12px;\n",
              "    }\n",
              "\n",
              "    .colab-df-convert {\n",
              "      background-color: #E8F0FE;\n",
              "      border: none;\n",
              "      border-radius: 50%;\n",
              "      cursor: pointer;\n",
              "      display: none;\n",
              "      fill: #1967D2;\n",
              "      height: 32px;\n",
              "      padding: 0 0 0 0;\n",
              "      width: 32px;\n",
              "    }\n",
              "\n",
              "    .colab-df-convert:hover {\n",
              "      background-color: #E2EBFA;\n",
              "      box-shadow: 0px 1px 2px rgba(60, 64, 67, 0.3), 0px 1px 3px 1px rgba(60, 64, 67, 0.15);\n",
              "      fill: #174EA6;\n",
              "    }\n",
              "\n",
              "    [theme=dark] .colab-df-convert {\n",
              "      background-color: #3B4455;\n",
              "      fill: #D2E3FC;\n",
              "    }\n",
              "\n",
              "    [theme=dark] .colab-df-convert:hover {\n",
              "      background-color: #434B5C;\n",
              "      box-shadow: 0px 1px 3px 1px rgba(0, 0, 0, 0.15);\n",
              "      filter: drop-shadow(0px 1px 2px rgba(0, 0, 0, 0.3));\n",
              "      fill: #FFFFFF;\n",
              "    }\n",
              "  </style>\n",
              "\n",
              "      <script>\n",
              "        const buttonEl =\n",
              "          document.querySelector('#df-77f01b49-7538-40be-be5d-91903dcd14b5 button.colab-df-convert');\n",
              "        buttonEl.style.display =\n",
              "          google.colab.kernel.accessAllowed ? 'block' : 'none';\n",
              "\n",
              "        async function convertToInteractive(key) {\n",
              "          const element = document.querySelector('#df-77f01b49-7538-40be-be5d-91903dcd14b5');\n",
              "          const dataTable =\n",
              "            await google.colab.kernel.invokeFunction('convertToInteractive',\n",
              "                                                     [key], {});\n",
              "          if (!dataTable) return;\n",
              "\n",
              "          const docLinkHtml = 'Like what you see? Visit the ' +\n",
              "            '<a target=\"_blank\" href=https://colab.research.google.com/notebooks/data_table.ipynb>data table notebook</a>'\n",
              "            + ' to learn more about interactive tables.';\n",
              "          element.innerHTML = '';\n",
              "          dataTable['output_type'] = 'display_data';\n",
              "          await google.colab.output.renderOutput(dataTable, element);\n",
              "          const docLink = document.createElement('div');\n",
              "          docLink.innerHTML = docLinkHtml;\n",
              "          element.appendChild(docLink);\n",
              "        }\n",
              "      </script>\n",
              "    </div>\n",
              "  </div>\n",
              "  "
            ]
          },
          "metadata": {},
          "execution_count": 2
        }
      ],
      "source": [
        "# Se importa el dataset a un objeto dataframe y se visualiza\n",
        "# El dataset no tiene el nombre de las columnas\n",
        "# Se crea un vector con los nombres de las columnas\n",
        "nombre_columnas = [ 'age',\n",
        "                    'workclass',\n",
        "                    'fnlwgt',\n",
        "                    'education',\n",
        "                    'education-num',\n",
        "                    'marital-status',\n",
        "                    'occupation',\n",
        "                    'relationship',\n",
        "                    'race',\n",
        "                    'sex',\n",
        "                    'capital-gain',\n",
        "                    'capital-loss',\n",
        "                    'hours-per-week',\n",
        "                    'native-country',\n",
        "                    'salary']\n",
        "# Se importa a dataframe el dataset adult.data                    \n",
        "df_censo_adulto = pd.read_csv('/content/adult_censo.csv', names=nombre_columnas, na_values=' ?')\n",
        "df_censo_adulto.head()"
      ]
    },
    {
      "cell_type": "code",
      "execution_count": null,
      "metadata": {
        "colab": {
          "base_uri": "https://localhost:8080/",
          "height": 354
        },
        "id": "OX5jzKgsBSGk",
        "outputId": "74aa886a-da31-49d7-9c1e-86ed6c6d1b62"
      },
      "outputs": [
        {
          "output_type": "execute_result",
          "data": {
            "text/plain": [
              "   age   workclass  fnlwgt      education  education-num       marital-status  \\\n",
              "0   25     Private  226802           11th              7        Never-married   \n",
              "1   38     Private   89814        HS-grad              9   Married-civ-spouse   \n",
              "2   28   Local-gov  336951     Assoc-acdm             12   Married-civ-spouse   \n",
              "3   44     Private  160323   Some-college             10   Married-civ-spouse   \n",
              "4   18         NaN  103497   Some-college             10        Never-married   \n",
              "\n",
              "           occupation relationship    race      sex  capital-gain  \\\n",
              "0   Machine-op-inspct    Own-child   Black     Male             0   \n",
              "1     Farming-fishing      Husband   White     Male             0   \n",
              "2     Protective-serv      Husband   White     Male             0   \n",
              "3   Machine-op-inspct      Husband   Black     Male          7688   \n",
              "4                 NaN    Own-child   White   Female             0   \n",
              "\n",
              "   capital-loss  hours-per-week  native-country   salary  \n",
              "0             0              40   United-States   <=50K.  \n",
              "1             0              50   United-States   <=50K.  \n",
              "2             0              40   United-States    >50K.  \n",
              "3             0              40   United-States    >50K.  \n",
              "4             0              30   United-States   <=50K.  "
            ],
            "text/html": [
              "\n",
              "  <div id=\"df-59914de9-b90b-4636-93b6-7431b190d480\">\n",
              "    <div class=\"colab-df-container\">\n",
              "      <div>\n",
              "<style scoped>\n",
              "    .dataframe tbody tr th:only-of-type {\n",
              "        vertical-align: middle;\n",
              "    }\n",
              "\n",
              "    .dataframe tbody tr th {\n",
              "        vertical-align: top;\n",
              "    }\n",
              "\n",
              "    .dataframe thead th {\n",
              "        text-align: right;\n",
              "    }\n",
              "</style>\n",
              "<table border=\"1\" class=\"dataframe\">\n",
              "  <thead>\n",
              "    <tr style=\"text-align: right;\">\n",
              "      <th></th>\n",
              "      <th>age</th>\n",
              "      <th>workclass</th>\n",
              "      <th>fnlwgt</th>\n",
              "      <th>education</th>\n",
              "      <th>education-num</th>\n",
              "      <th>marital-status</th>\n",
              "      <th>occupation</th>\n",
              "      <th>relationship</th>\n",
              "      <th>race</th>\n",
              "      <th>sex</th>\n",
              "      <th>capital-gain</th>\n",
              "      <th>capital-loss</th>\n",
              "      <th>hours-per-week</th>\n",
              "      <th>native-country</th>\n",
              "      <th>salary</th>\n",
              "    </tr>\n",
              "  </thead>\n",
              "  <tbody>\n",
              "    <tr>\n",
              "      <th>0</th>\n",
              "      <td>25</td>\n",
              "      <td>Private</td>\n",
              "      <td>226802</td>\n",
              "      <td>11th</td>\n",
              "      <td>7</td>\n",
              "      <td>Never-married</td>\n",
              "      <td>Machine-op-inspct</td>\n",
              "      <td>Own-child</td>\n",
              "      <td>Black</td>\n",
              "      <td>Male</td>\n",
              "      <td>0</td>\n",
              "      <td>0</td>\n",
              "      <td>40</td>\n",
              "      <td>United-States</td>\n",
              "      <td>&lt;=50K.</td>\n",
              "    </tr>\n",
              "    <tr>\n",
              "      <th>1</th>\n",
              "      <td>38</td>\n",
              "      <td>Private</td>\n",
              "      <td>89814</td>\n",
              "      <td>HS-grad</td>\n",
              "      <td>9</td>\n",
              "      <td>Married-civ-spouse</td>\n",
              "      <td>Farming-fishing</td>\n",
              "      <td>Husband</td>\n",
              "      <td>White</td>\n",
              "      <td>Male</td>\n",
              "      <td>0</td>\n",
              "      <td>0</td>\n",
              "      <td>50</td>\n",
              "      <td>United-States</td>\n",
              "      <td>&lt;=50K.</td>\n",
              "    </tr>\n",
              "    <tr>\n",
              "      <th>2</th>\n",
              "      <td>28</td>\n",
              "      <td>Local-gov</td>\n",
              "      <td>336951</td>\n",
              "      <td>Assoc-acdm</td>\n",
              "      <td>12</td>\n",
              "      <td>Married-civ-spouse</td>\n",
              "      <td>Protective-serv</td>\n",
              "      <td>Husband</td>\n",
              "      <td>White</td>\n",
              "      <td>Male</td>\n",
              "      <td>0</td>\n",
              "      <td>0</td>\n",
              "      <td>40</td>\n",
              "      <td>United-States</td>\n",
              "      <td>&gt;50K.</td>\n",
              "    </tr>\n",
              "    <tr>\n",
              "      <th>3</th>\n",
              "      <td>44</td>\n",
              "      <td>Private</td>\n",
              "      <td>160323</td>\n",
              "      <td>Some-college</td>\n",
              "      <td>10</td>\n",
              "      <td>Married-civ-spouse</td>\n",
              "      <td>Machine-op-inspct</td>\n",
              "      <td>Husband</td>\n",
              "      <td>Black</td>\n",
              "      <td>Male</td>\n",
              "      <td>7688</td>\n",
              "      <td>0</td>\n",
              "      <td>40</td>\n",
              "      <td>United-States</td>\n",
              "      <td>&gt;50K.</td>\n",
              "    </tr>\n",
              "    <tr>\n",
              "      <th>4</th>\n",
              "      <td>18</td>\n",
              "      <td>NaN</td>\n",
              "      <td>103497</td>\n",
              "      <td>Some-college</td>\n",
              "      <td>10</td>\n",
              "      <td>Never-married</td>\n",
              "      <td>NaN</td>\n",
              "      <td>Own-child</td>\n",
              "      <td>White</td>\n",
              "      <td>Female</td>\n",
              "      <td>0</td>\n",
              "      <td>0</td>\n",
              "      <td>30</td>\n",
              "      <td>United-States</td>\n",
              "      <td>&lt;=50K.</td>\n",
              "    </tr>\n",
              "  </tbody>\n",
              "</table>\n",
              "</div>\n",
              "      <button class=\"colab-df-convert\" onclick=\"convertToInteractive('df-59914de9-b90b-4636-93b6-7431b190d480')\"\n",
              "              title=\"Convert this dataframe to an interactive table.\"\n",
              "              style=\"display:none;\">\n",
              "        \n",
              "  <svg xmlns=\"http://www.w3.org/2000/svg\" height=\"24px\"viewBox=\"0 0 24 24\"\n",
              "       width=\"24px\">\n",
              "    <path d=\"M0 0h24v24H0V0z\" fill=\"none\"/>\n",
              "    <path d=\"M18.56 5.44l.94 2.06.94-2.06 2.06-.94-2.06-.94-.94-2.06-.94 2.06-2.06.94zm-11 1L8.5 8.5l.94-2.06 2.06-.94-2.06-.94L8.5 2.5l-.94 2.06-2.06.94zm10 10l.94 2.06.94-2.06 2.06-.94-2.06-.94-.94-2.06-.94 2.06-2.06.94z\"/><path d=\"M17.41 7.96l-1.37-1.37c-.4-.4-.92-.59-1.43-.59-.52 0-1.04.2-1.43.59L10.3 9.45l-7.72 7.72c-.78.78-.78 2.05 0 2.83L4 21.41c.39.39.9.59 1.41.59.51 0 1.02-.2 1.41-.59l7.78-7.78 2.81-2.81c.8-.78.8-2.07 0-2.86zM5.41 20L4 18.59l7.72-7.72 1.47 1.35L5.41 20z\"/>\n",
              "  </svg>\n",
              "      </button>\n",
              "      \n",
              "  <style>\n",
              "    .colab-df-container {\n",
              "      display:flex;\n",
              "      flex-wrap:wrap;\n",
              "      gap: 12px;\n",
              "    }\n",
              "\n",
              "    .colab-df-convert {\n",
              "      background-color: #E8F0FE;\n",
              "      border: none;\n",
              "      border-radius: 50%;\n",
              "      cursor: pointer;\n",
              "      display: none;\n",
              "      fill: #1967D2;\n",
              "      height: 32px;\n",
              "      padding: 0 0 0 0;\n",
              "      width: 32px;\n",
              "    }\n",
              "\n",
              "    .colab-df-convert:hover {\n",
              "      background-color: #E2EBFA;\n",
              "      box-shadow: 0px 1px 2px rgba(60, 64, 67, 0.3), 0px 1px 3px 1px rgba(60, 64, 67, 0.15);\n",
              "      fill: #174EA6;\n",
              "    }\n",
              "\n",
              "    [theme=dark] .colab-df-convert {\n",
              "      background-color: #3B4455;\n",
              "      fill: #D2E3FC;\n",
              "    }\n",
              "\n",
              "    [theme=dark] .colab-df-convert:hover {\n",
              "      background-color: #434B5C;\n",
              "      box-shadow: 0px 1px 3px 1px rgba(0, 0, 0, 0.15);\n",
              "      filter: drop-shadow(0px 1px 2px rgba(0, 0, 0, 0.3));\n",
              "      fill: #FFFFFF;\n",
              "    }\n",
              "  </style>\n",
              "\n",
              "      <script>\n",
              "        const buttonEl =\n",
              "          document.querySelector('#df-59914de9-b90b-4636-93b6-7431b190d480 button.colab-df-convert');\n",
              "        buttonEl.style.display =\n",
              "          google.colab.kernel.accessAllowed ? 'block' : 'none';\n",
              "\n",
              "        async function convertToInteractive(key) {\n",
              "          const element = document.querySelector('#df-59914de9-b90b-4636-93b6-7431b190d480');\n",
              "          const dataTable =\n",
              "            await google.colab.kernel.invokeFunction('convertToInteractive',\n",
              "                                                     [key], {});\n",
              "          if (!dataTable) return;\n",
              "\n",
              "          const docLinkHtml = 'Like what you see? Visit the ' +\n",
              "            '<a target=\"_blank\" href=https://colab.research.google.com/notebooks/data_table.ipynb>data table notebook</a>'\n",
              "            + ' to learn more about interactive tables.';\n",
              "          element.innerHTML = '';\n",
              "          dataTable['output_type'] = 'display_data';\n",
              "          await google.colab.output.renderOutput(dataTable, element);\n",
              "          const docLink = document.createElement('div');\n",
              "          docLink.innerHTML = docLinkHtml;\n",
              "          element.appendChild(docLink);\n",
              "        }\n",
              "      </script>\n",
              "    </div>\n",
              "  </div>\n",
              "  "
            ]
          },
          "metadata": {},
          "execution_count": 3
        }
      ],
      "source": [
        "# Se importa a dataframe el dataset adult.data                    \n",
        "df_censo_test = pd.read_csv('/content/adult_test.csv', names=nombre_columnas, na_values=' ?')\n",
        "df_censo_test.head()"
      ]
    },
    {
      "cell_type": "code",
      "execution_count": null,
      "metadata": {
        "colab": {
          "base_uri": "https://localhost:8080/"
        },
        "id": "dbk6WFozBSGl",
        "outputId": "bda7960f-f26c-47d8-e7c0-2e9e432ebe78"
      },
      "outputs": [
        {
          "output_type": "stream",
          "name": "stdout",
          "text": [
            "<class 'pandas.core.frame.DataFrame'>\n",
            "Int64Index: 30162 entries, 0 to 32560\n",
            "Data columns (total 15 columns):\n",
            " #   Column          Non-Null Count  Dtype \n",
            "---  ------          --------------  ----- \n",
            " 0   age             30162 non-null  int64 \n",
            " 1   workclass       30162 non-null  object\n",
            " 2   fnlwgt          30162 non-null  int64 \n",
            " 3   education       30162 non-null  object\n",
            " 4   education-num   30162 non-null  int64 \n",
            " 5   marital-status  30162 non-null  object\n",
            " 6   occupation      30162 non-null  object\n",
            " 7   relationship    30162 non-null  object\n",
            " 8   race            30162 non-null  object\n",
            " 9   sex             30162 non-null  object\n",
            " 10  capital-gain    30162 non-null  int64 \n",
            " 11  capital-loss    30162 non-null  int64 \n",
            " 12  hours-per-week  30162 non-null  int64 \n",
            " 13  native-country  30162 non-null  object\n",
            " 14  salary          30162 non-null  object\n",
            "dtypes: int64(6), object(9)\n",
            "memory usage: 3.7+ MB\n"
          ]
        }
      ],
      "source": [
        "# Se procede a eliminar los valores desaparecidos\n",
        "# Se obtiene indormación general de los dataframes\n",
        "df_censo_adulto = df_censo_adulto.dropna()\n",
        "df_censo_adulto.info()"
      ]
    },
    {
      "cell_type": "code",
      "execution_count": null,
      "metadata": {
        "id": "k2oVNIcWBSGm"
      },
      "outputs": [],
      "source": [
        "# Se hace una inspeccion visual sobre las categorias df adult.data\n",
        "# Se revisan las categorias existentes en cada \"objeto\"\n",
        "# Primera categoria \"workclass\"\n"
      ]
    },
    {
      "cell_type": "markdown",
      "metadata": {
        "id": "1f1DgsWuBSGn"
      },
      "source": [
        "**Análisis del dataset adult.data**\n",
        "\n",
        "* Se presentaron en el dataframe datos desaparecidos, se toma la decisión de eliminar los datos desaparecidos\n",
        "* Se presentan 30162 registros no nulos\n",
        "* Se presentan datos del tipo int64 y objetos, es decir, datos numericos y categóricos"
      ]
    },
    {
      "cell_type": "code",
      "execution_count": null,
      "metadata": {
        "colab": {
          "base_uri": "https://localhost:8080/"
        },
        "id": "7Eg9LuooBSGn",
        "outputId": "80c3b98f-2e46-491a-d3f5-ea6d4566533d"
      },
      "outputs": [
        {
          "output_type": "stream",
          "name": "stdout",
          "text": [
            "<class 'pandas.core.frame.DataFrame'>\n",
            "Int64Index: 15060 entries, 0 to 16280\n",
            "Data columns (total 15 columns):\n",
            " #   Column          Non-Null Count  Dtype  \n",
            "---  ------          --------------  -----  \n",
            " 0   age             15060 non-null  float64\n",
            " 1   workclass       15060 non-null  object \n",
            " 2   fnlwgt          15060 non-null  int64  \n",
            " 3   education       15060 non-null  object \n",
            " 4   education-num   15060 non-null  int64  \n",
            " 5   marital-status  15060 non-null  object \n",
            " 6   occupation      15060 non-null  object \n",
            " 7   relationship    15060 non-null  object \n",
            " 8   race            15060 non-null  object \n",
            " 9   sex             15060 non-null  object \n",
            " 10  capital-gain    15060 non-null  int64  \n",
            " 11  capital-loss    15060 non-null  int64  \n",
            " 12  hours-per-week  15060 non-null  int64  \n",
            " 13  native-country  15060 non-null  object \n",
            " 14  salary          15060 non-null  object \n",
            "dtypes: float64(1), int64(5), object(9)\n",
            "memory usage: 1.8+ MB\n"
          ]
        }
      ],
      "source": [
        "# Se oberva que el primer registro es irregular, aparentemente de la manipulación \n",
        "# intrusiva sobre del dataset, se procede a eliminar ese primer registo en el dataset \n",
        "# de prueba (test) <df_censo_test>\n",
        "df_censo_test = df_censo_test.dropna()\n",
        "# Pasamos la solumna edad a flotante\n",
        "df_censo_test['age'] = df_censo_test['age'].astype(float)\n",
        "df_censo_test.info()"
      ]
    },
    {
      "cell_type": "markdown",
      "metadata": {
        "id": "OVPpuHgQBSGo"
      },
      "source": [
        "**Análisis del dataset adult.data**\n",
        "\n",
        "* Se presentaron en el dataframe datos desaparecidos, se toma la decisión de eliminar los datos desaparecidos\n",
        "* Se presentan 15060 registros \n",
        "* Se presentan datos del tipo int64 y objetos, es decir, datos numericos y categóricos"
      ]
    },
    {
      "cell_type": "code",
      "execution_count": null,
      "metadata": {
        "colab": {
          "base_uri": "https://localhost:8080/"
        },
        "id": "3siK05KdBSGp",
        "outputId": "191ae351-1b8c-44cc-f8f6-ccf31bbe4a2d"
      },
      "outputs": [
        {
          "output_type": "stream",
          "name": "stdout",
          "text": [
            "       age  fnlwgt  education-num  capital-gain  capital-loss  hours-per-week\n",
            "0       39   77516             13          2174             0              40\n",
            "1       50   83311             13             0             0              13\n",
            "2       38  215646              9             0             0              40\n",
            "3       53  234721              7             0             0              40\n",
            "4       28  338409             13             0             0              40\n",
            "...    ...     ...            ...           ...           ...             ...\n",
            "32556   27  257302             12             0             0              38\n",
            "32557   40  154374              9             0             0              40\n",
            "32558   58  151910              9             0             0              40\n",
            "32559   22  201490              9             0             0              20\n",
            "32560   52  287927              9         15024             0              40\n",
            "\n",
            "[30162 rows x 6 columns]\n"
          ]
        }
      ],
      "source": [
        "# Se hace revisión sobre los datos numéricos del dataframe adult.data\n",
        "atributos_numericos = df_censo_adulto.select_dtypes(include=['int64'])\n",
        "print(atributos_numericos)"
      ]
    },
    {
      "cell_type": "code",
      "execution_count": null,
      "metadata": {
        "colab": {
          "base_uri": "https://localhost:8080/"
        },
        "id": "xjQ0AKyTBSGp",
        "outputId": "069892d4-6f52-4f16-c40c-11db5c38b046"
      },
      "outputs": [
        {
          "output_type": "stream",
          "name": "stdout",
          "text": [
            "Index(['age'], dtype='object')\n"
          ]
        }
      ],
      "source": [
        "# Se hace revisión sobre los datos numéricos del dataframe adult.data\n",
        "atributos_numericos_test = df_censo_test.select_dtypes(include=['float64'])\n",
        "print(atributos_numericos_test.columns)"
      ]
    },
    {
      "cell_type": "code",
      "source": [
        "# Correlacion plot: DATOS DE ENTRENAMIENTO\n",
        "corr = df_censo_adulto.corr()\n",
        "sns.heatmap(corr, cmap = 'Wistia', annot=True);"
      ],
      "metadata": {
        "colab": {
          "base_uri": "https://localhost:8080/",
          "height": 337
        },
        "id": "NGtN1YmvCqEl",
        "outputId": "f1d2506c-c85b-4844-e064-262e75984e7a"
      },
      "execution_count": null,
      "outputs": [
        {
          "output_type": "display_data",
          "data": {
            "text/plain": [
              "<Figure size 432x288 with 2 Axes>"
            ],
            "image/png": "[encoded data removed]"
          },
          "metadata": {
            "needs_background": "light"
          }
        }
      ]
    },
    {
      "cell_type": "code",
      "source": [
        "# Correlacion plot: DATOS TESTEADOS\n",
        "corr = df_censo_test.corr()\n",
        "sns.heatmap(corr, cmap = 'Wistia', annot=True);"
      ],
      "metadata": {
        "colab": {
          "base_uri": "https://localhost:8080/",
          "height": 337
        },
        "id": "fzkRBe0EC9Ss",
        "outputId": "1d2da362-7133-4501-f4eb-f8d4d5500285"
      },
      "execution_count": null,
      "outputs": [
        {
          "output_type": "display_data",
          "data": {
            "text/plain": [
              "<Figure size 432x288 with 2 Axes>"
            ],
            "image/png": "[encoded data removed]"
          },
          "metadata": {
            "needs_background": "light"
          }
        }
      ]
    },
    {
      "cell_type": "markdown",
      "source": [
        "Se obseva del mapa de calor sobre la correlacion <person> que para ambos casos <test/train> la columna fnlwgt, presenta correlacion inversa o negativa. Se elimina la columna dado que advierte resultados que deterioran cualquier modelo de analisis o prediccion.\n",
        "\n",
        "**Se procede a eliminar la columna fnlwgt.**\n"
      ],
      "metadata": {
        "id": "NlYabTL3DUqu"
      }
    },
    {
      "cell_type": "code",
      "source": [
        "df_censo_adulto.drop(['fnlwgt'], axis=1, inplace=True)\n",
        "df_censo_test.drop(['fnlwgt'], axis = 1, inplace= True)"
      ],
      "metadata": {
        "id": "OsTQnxWsIpwf"
      },
      "execution_count": null,
      "outputs": []
    },
    {
      "cell_type": "code",
      "source": [
        "#Se presenta el dataframe\n",
        "df_censo_adulto.head()"
      ],
      "metadata": {
        "colab": {
          "base_uri": "https://localhost:8080/",
          "height": 337
        },
        "id": "EI_5zCo5I0T3",
        "outputId": "7a852d02-5151-48be-a884-2f55a40229dc"
      },
      "execution_count": null,
      "outputs": [
        {
          "output_type": "execute_result",
          "data": {
            "text/plain": [
              "   age          workclass   education  education-num       marital-status  \\\n",
              "0   39          State-gov   Bachelors             13        Never-married   \n",
              "1   50   Self-emp-not-inc   Bachelors             13   Married-civ-spouse   \n",
              "2   38            Private     HS-grad              9             Divorced   \n",
              "3   53            Private        11th              7   Married-civ-spouse   \n",
              "4   28            Private   Bachelors             13   Married-civ-spouse   \n",
              "\n",
              "           occupation    relationship    race      sex  capital-gain  \\\n",
              "0        Adm-clerical   Not-in-family   White     Male          2174   \n",
              "1     Exec-managerial         Husband   White     Male             0   \n",
              "2   Handlers-cleaners   Not-in-family   White     Male             0   \n",
              "3   Handlers-cleaners         Husband   Black     Male             0   \n",
              "4      Prof-specialty            Wife   Black   Female             0   \n",
              "\n",
              "   capital-loss  hours-per-week  native-country  salary  \n",
              "0             0              40   United-States   <=50K  \n",
              "1             0              13   United-States   <=50K  \n",
              "2             0              40   United-States   <=50K  \n",
              "3             0              40   United-States   <=50K  \n",
              "4             0              40            Cuba   <=50K  "
            ],
            "text/html": [
              "\n",
              "  <div id=\"df-1c6f6bba-25df-4869-b4d5-9bb8f5b3eebd\">\n",
              "    <div class=\"colab-df-container\">\n",
              "      <div>\n",
              "<style scoped>\n",
              "    .dataframe tbody tr th:only-of-type {\n",
              "        vertical-align: middle;\n",
              "    }\n",
              "\n",
              "    .dataframe tbody tr th {\n",
              "        vertical-align: top;\n",
              "    }\n",
              "\n",
              "    .dataframe thead th {\n",
              "        text-align: right;\n",
              "    }\n",
              "</style>\n",
              "<table border=\"1\" class=\"dataframe\">\n",
              "  <thead>\n",
              "    <tr style=\"text-align: right;\">\n",
              "      <th></th>\n",
              "      <th>age</th>\n",
              "      <th>workclass</th>\n",
              "      <th>education</th>\n",
              "      <th>education-num</th>\n",
              "      <th>marital-status</th>\n",
              "      <th>occupation</th>\n",
              "      <th>relationship</th>\n",
              "      <th>race</th>\n",
              "      <th>sex</th>\n",
              "      <th>capital-gain</th>\n",
              "      <th>capital-loss</th>\n",
              "      <th>hours-per-week</th>\n",
              "      <th>native-country</th>\n",
              "      <th>salary</th>\n",
              "    </tr>\n",
              "  </thead>\n",
              "  <tbody>\n",
              "    <tr>\n",
              "      <th>0</th>\n",
              "      <td>39</td>\n",
              "      <td>State-gov</td>\n",
              "      <td>Bachelors</td>\n",
              "      <td>13</td>\n",
              "      <td>Never-married</td>\n",
              "      <td>Adm-clerical</td>\n",
              "      <td>Not-in-family</td>\n",
              "      <td>White</td>\n",
              "      <td>Male</td>\n",
              "      <td>2174</td>\n",
              "      <td>0</td>\n",
              "      <td>40</td>\n",
              "      <td>United-States</td>\n",
              "      <td>&lt;=50K</td>\n",
              "    </tr>\n",
              "    <tr>\n",
              "      <th>1</th>\n",
              "      <td>50</td>\n",
              "      <td>Self-emp-not-inc</td>\n",
              "      <td>Bachelors</td>\n",
              "      <td>13</td>\n",
              "      <td>Married-civ-spouse</td>\n",
              "      <td>Exec-managerial</td>\n",
              "      <td>Husband</td>\n",
              "      <td>White</td>\n",
              "      <td>Male</td>\n",
              "      <td>0</td>\n",
              "      <td>0</td>\n",
              "      <td>13</td>\n",
              "      <td>United-States</td>\n",
              "      <td>&lt;=50K</td>\n",
              "    </tr>\n",
              "    <tr>\n",
              "      <th>2</th>\n",
              "      <td>38</td>\n",
              "      <td>Private</td>\n",
              "      <td>HS-grad</td>\n",
              "      <td>9</td>\n",
              "      <td>Divorced</td>\n",
              "      <td>Handlers-cleaners</td>\n",
              "      <td>Not-in-family</td>\n",
              "      <td>White</td>\n",
              "      <td>Male</td>\n",
              "      <td>0</td>\n",
              "      <td>0</td>\n",
              "      <td>40</td>\n",
              "      <td>United-States</td>\n",
              "      <td>&lt;=50K</td>\n",
              "    </tr>\n",
              "    <tr>\n",
              "      <th>3</th>\n",
              "      <td>53</td>\n",
              "      <td>Private</td>\n",
              "      <td>11th</td>\n",
              "      <td>7</td>\n",
              "      <td>Married-civ-spouse</td>\n",
              "      <td>Handlers-cleaners</td>\n",
              "      <td>Husband</td>\n",
              "      <td>Black</td>\n",
              "      <td>Male</td>\n",
              "      <td>0</td>\n",
              "      <td>0</td>\n",
              "      <td>40</td>\n",
              "      <td>United-States</td>\n",
              "      <td>&lt;=50K</td>\n",
              "    </tr>\n",
              "    <tr>\n",
              "      <th>4</th>\n",
              "      <td>28</td>\n",
              "      <td>Private</td>\n",
              "      <td>Bachelors</td>\n",
              "      <td>13</td>\n",
              "      <td>Married-civ-spouse</td>\n",
              "      <td>Prof-specialty</td>\n",
              "      <td>Wife</td>\n",
              "      <td>Black</td>\n",
              "      <td>Female</td>\n",
              "      <td>0</td>\n",
              "      <td>0</td>\n",
              "      <td>40</td>\n",
              "      <td>Cuba</td>\n",
              "      <td>&lt;=50K</td>\n",
              "    </tr>\n",
              "  </tbody>\n",
              "</table>\n",
              "</div>\n",
              "      <button class=\"colab-df-convert\" onclick=\"convertToInteractive('df-1c6f6bba-25df-4869-b4d5-9bb8f5b3eebd')\"\n",
              "              title=\"Convert this dataframe to an interactive table.\"\n",
              "              style=\"display:none;\">\n",
              "        \n",
              "  <svg xmlns=\"http://www.w3.org/2000/svg\" height=\"24px\"viewBox=\"0 0 24 24\"\n",
              "       width=\"24px\">\n",
              "    <path d=\"M0 0h24v24H0V0z\" fill=\"none\"/>\n",
              "    <path d=\"M18.56 5.44l.94 2.06.94-2.06 2.06-.94-2.06-.94-.94-2.06-.94 2.06-2.06.94zm-11 1L8.5 8.5l.94-2.06 2.06-.94-2.06-.94L8.5 2.5l-.94 2.06-2.06.94zm10 10l.94 2.06.94-2.06 2.06-.94-2.06-.94-.94-2.06-.94 2.06-2.06.94z\"/><path d=\"M17.41 7.96l-1.37-1.37c-.4-.4-.92-.59-1.43-.59-.52 0-1.04.2-1.43.59L10.3 9.45l-7.72 7.72c-.78.78-.78 2.05 0 2.83L4 21.41c.39.39.9.59 1.41.59.51 0 1.02-.2 1.41-.59l7.78-7.78 2.81-2.81c.8-.78.8-2.07 0-2.86zM5.41 20L4 18.59l7.72-7.72 1.47 1.35L5.41 20z\"/>\n",
              "  </svg>\n",
              "      </button>\n",
              "      \n",
              "  <style>\n",
              "    .colab-df-container {\n",
              "      display:flex;\n",
              "      flex-wrap:wrap;\n",
              "      gap: 12px;\n",
              "    }\n",
              "\n",
              "    .colab-df-convert {\n",
              "      background-color: #E8F0FE;\n",
              "      border: none;\n",
              "      border-radius: 50%;\n",
              "      cursor: pointer;\n",
              "      display: none;\n",
              "      fill: #1967D2;\n",
              "      height: 32px;\n",
              "      padding: 0 0 0 0;\n",
              "      width: 32px;\n",
              "    }\n",
              "\n",
              "    .colab-df-convert:hover {\n",
              "      background-color: #E2EBFA;\n",
              "      box-shadow: 0px 1px 2px rgba(60, 64, 67, 0.3), 0px 1px 3px 1px rgba(60, 64, 67, 0.15);\n",
              "      fill: #174EA6;\n",
              "    }\n",
              "\n",
              "    [theme=dark] .colab-df-convert {\n",
              "      background-color: #3B4455;\n",
              "      fill: #D2E3FC;\n",
              "    }\n",
              "\n",
              "    [theme=dark] .colab-df-convert:hover {\n",
              "      background-color: #434B5C;\n",
              "      box-shadow: 0px 1px 3px 1px rgba(0, 0, 0, 0.15);\n",
              "      filter: drop-shadow(0px 1px 2px rgba(0, 0, 0, 0.3));\n",
              "      fill: #FFFFFF;\n",
              "    }\n",
              "  </style>\n",
              "\n",
              "      <script>\n",
              "        const buttonEl =\n",
              "          document.querySelector('#df-1c6f6bba-25df-4869-b4d5-9bb8f5b3eebd button.colab-df-convert');\n",
              "        buttonEl.style.display =\n",
              "          google.colab.kernel.accessAllowed ? 'block' : 'none';\n",
              "\n",
              "        async function convertToInteractive(key) {\n",
              "          const element = document.querySelector('#df-1c6f6bba-25df-4869-b4d5-9bb8f5b3eebd');\n",
              "          const dataTable =\n",
              "            await google.colab.kernel.invokeFunction('convertToInteractive',\n",
              "                                                     [key], {});\n",
              "          if (!dataTable) return;\n",
              "\n",
              "          const docLinkHtml = 'Like what you see? Visit the ' +\n",
              "            '<a target=\"_blank\" href=https://colab.research.google.com/notebooks/data_table.ipynb>data table notebook</a>'\n",
              "            + ' to learn more about interactive tables.';\n",
              "          element.innerHTML = '';\n",
              "          dataTable['output_type'] = 'display_data';\n",
              "          await google.colab.output.renderOutput(dataTable, element);\n",
              "          const docLink = document.createElement('div');\n",
              "          docLink.innerHTML = docLinkHtml;\n",
              "          element.appendChild(docLink);\n",
              "        }\n",
              "      </script>\n",
              "    </div>\n",
              "  </div>\n",
              "  "
            ]
          },
          "metadata": {},
          "execution_count": 12
        }
      ]
    },
    {
      "cell_type": "code",
      "source": [
        "#Se visualiza las cantidades de personas que ganan mas o menos de 50k\n",
        "df_censo_adulto['salary'].value_counts()"
      ],
      "metadata": {
        "colab": {
          "base_uri": "https://localhost:8080/"
        },
        "id": "Wzr1PrV5I46g",
        "outputId": "ea9bf8ce-639e-418e-e60a-3e71a7626138"
      },
      "execution_count": null,
      "outputs": [
        {
          "output_type": "execute_result",
          "data": {
            "text/plain": [
              " <=50K    22654\n",
              " >50K      7508\n",
              "Name: salary, dtype: int64"
            ]
          },
          "metadata": {},
          "execution_count": 13
        }
      ]
    },
    {
      "cell_type": "code",
      "source": [
        "sns.countplot(data = df_censo_test, x = 'salary')\n",
        "plt.title('Grafica: cantidad vs Salario <Data Train> ')\n",
        "plt.show()"
      ],
      "metadata": {
        "colab": {
          "base_uri": "https://localhost:8080/",
          "height": 295
        },
        "id": "i2uDGXhrI97X",
        "outputId": "0a2a2edf-8287-4afd-b4a3-88a418dbbca6"
      },
      "execution_count": null,
      "outputs": [
        {
          "output_type": "display_data",
          "data": {
            "text/plain": [
              "<Figure size 432x288 with 1 Axes>"
            ],
            "image/png": "[encoded data removed]"
          },
          "metadata": {
            "needs_background": "light"
          }
        }
      ]
    },
    {
      "cell_type": "code",
      "source": [
        "sns.countplot(data = df_censo_adulto, x = 'salary')\n",
        "plt.title('Grafica: cantidad vs Salario <Data TRain> ')\n",
        "plt.show()"
      ],
      "metadata": {
        "colab": {
          "base_uri": "https://localhost:8080/",
          "height": 295
        },
        "id": "iYSfaTOqJDVb",
        "outputId": "c35c7005-d0f8-498f-dfbc-70979c8ec056"
      },
      "execution_count": null,
      "outputs": [
        {
          "output_type": "display_data",
          "data": {
            "text/plain": [
              "<Figure size 432x288 with 1 Axes>"
            ],
            "image/png": "[encoded data removed]"
          },
          "metadata": {
            "needs_background": "light"
          }
        }
      ]
    },
    {
      "cell_type": "markdown",
      "source": [
        "Se puede apreciar que existe un desbalance sobre la cantidad de personas que no ganan mas de 50k, en relaicones con las que si ganan mas.\n",
        "La observacion prevalece sobre los dos dataframes <train/test> "
      ],
      "metadata": {
        "id": "4xI_-JtXJIAw"
      }
    },
    {
      "cell_type": "code",
      "source": [
        "#Se estudia la columna de 'education': son datos el tipo objeto \n",
        "df_censo_adulto['education'].unique()"
      ],
      "metadata": {
        "colab": {
          "base_uri": "https://localhost:8080/"
        },
        "id": "Nkut22ehJMVh",
        "outputId": "341cf6d7-db6e-44cd-af3f-0cf803ede803"
      },
      "execution_count": null,
      "outputs": [
        {
          "output_type": "execute_result",
          "data": {
            "text/plain": [
              "array([' Bachelors', ' HS-grad', ' 11th', ' Masters', ' 9th',\n",
              "       ' Some-college', ' Assoc-acdm', ' 7th-8th', ' Doctorate',\n",
              "       ' Assoc-voc', ' Prof-school', ' 5th-6th', ' 10th', ' Preschool',\n",
              "       ' 12th', ' 1st-4th'], dtype=object)"
            ]
          },
          "metadata": {},
          "execution_count": 16
        }
      ]
    },
    {
      "cell_type": "code",
      "source": [
        "df_censo_adulto['education-num'].unique()"
      ],
      "metadata": {
        "colab": {
          "base_uri": "https://localhost:8080/"
        },
        "id": "NTkVWZ0lJVu-",
        "outputId": "0ded613b-a97e-455c-8ffb-264651564669"
      },
      "execution_count": null,
      "outputs": [
        {
          "output_type": "execute_result",
          "data": {
            "text/plain": [
              "array([13,  9,  7, 14,  5, 10, 12,  4, 16, 11, 15,  3,  6,  1,  8,  2])"
            ]
          },
          "metadata": {},
          "execution_count": 17
        }
      ]
    },
    {
      "cell_type": "markdown",
      "source": [
        "**Observacion** La columna 'education' se presenta como datos *Nominales*, mientras que la columna education-num se presentan como datos *ordinales*.\n",
        "Adicionalmente, ambas columnas dicen la misma informacion. Se procede a eliminar la columna de datos ordinales."
      ],
      "metadata": {
        "id": "qA2vhJZaJbYf"
      }
    },
    {
      "cell_type": "code",
      "source": [
        "df_censo_adulto.drop(['education'], axis=1, inplace=True)\n",
        "df_censo_test.drop(['education'], axis = 1, inplace= True)\n",
        "df_censo_adulto.head()"
      ],
      "metadata": {
        "colab": {
          "base_uri": "https://localhost:8080/",
          "height": 250
        },
        "id": "kzyCl_W6JvWa",
        "outputId": "d6d1bb7a-891c-4a9a-a18a-2824899c758e"
      },
      "execution_count": null,
      "outputs": [
        {
          "output_type": "execute_result",
          "data": {
            "text/plain": [
              "   age          workclass  education-num       marital-status  \\\n",
              "0   39          State-gov             13        Never-married   \n",
              "1   50   Self-emp-not-inc             13   Married-civ-spouse   \n",
              "2   38            Private              9             Divorced   \n",
              "3   53            Private              7   Married-civ-spouse   \n",
              "4   28            Private             13   Married-civ-spouse   \n",
              "\n",
              "           occupation    relationship    race      sex  capital-gain  \\\n",
              "0        Adm-clerical   Not-in-family   White     Male          2174   \n",
              "1     Exec-managerial         Husband   White     Male             0   \n",
              "2   Handlers-cleaners   Not-in-family   White     Male             0   \n",
              "3   Handlers-cleaners         Husband   Black     Male             0   \n",
              "4      Prof-specialty            Wife   Black   Female             0   \n",
              "\n",
              "   capital-loss  hours-per-week  native-country  salary  \n",
              "0             0              40   United-States   <=50K  \n",
              "1             0              13   United-States   <=50K  \n",
              "2             0              40   United-States   <=50K  \n",
              "3             0              40   United-States   <=50K  \n",
              "4             0              40            Cuba   <=50K  "
            ],
            "text/html": [
              "\n",
              "  <div id=\"df-2f76ca19-ee82-41df-8c14-9ce990df2248\">\n",
              "    <div class=\"colab-df-container\">\n",
              "      <div>\n",
              "<style scoped>\n",
              "    .dataframe tbody tr th:only-of-type {\n",
              "        vertical-align: middle;\n",
              "    }\n",
              "\n",
              "    .dataframe tbody tr th {\n",
              "        vertical-align: top;\n",
              "    }\n",
              "\n",
              "    .dataframe thead th {\n",
              "        text-align: right;\n",
              "    }\n",
              "</style>\n",
              "<table border=\"1\" class=\"dataframe\">\n",
              "  <thead>\n",
              "    <tr style=\"text-align: right;\">\n",
              "      <th></th>\n",
              "      <th>age</th>\n",
              "      <th>workclass</th>\n",
              "      <th>education-num</th>\n",
              "      <th>marital-status</th>\n",
              "      <th>occupation</th>\n",
              "      <th>relationship</th>\n",
              "      <th>race</th>\n",
              "      <th>sex</th>\n",
              "      <th>capital-gain</th>\n",
              "      <th>capital-loss</th>\n",
              "      <th>hours-per-week</th>\n",
              "      <th>native-country</th>\n",
              "      <th>salary</th>\n",
              "    </tr>\n",
              "  </thead>\n",
              "  <tbody>\n",
              "    <tr>\n",
              "      <th>0</th>\n",
              "      <td>39</td>\n",
              "      <td>State-gov</td>\n",
              "      <td>13</td>\n",
              "      <td>Never-married</td>\n",
              "      <td>Adm-clerical</td>\n",
              "      <td>Not-in-family</td>\n",
              "      <td>White</td>\n",
              "      <td>Male</td>\n",
              "      <td>2174</td>\n",
              "      <td>0</td>\n",
              "      <td>40</td>\n",
              "      <td>United-States</td>\n",
              "      <td>&lt;=50K</td>\n",
              "    </tr>\n",
              "    <tr>\n",
              "      <th>1</th>\n",
              "      <td>50</td>\n",
              "      <td>Self-emp-not-inc</td>\n",
              "      <td>13</td>\n",
              "      <td>Married-civ-spouse</td>\n",
              "      <td>Exec-managerial</td>\n",
              "      <td>Husband</td>\n",
              "      <td>White</td>\n",
              "      <td>Male</td>\n",
              "      <td>0</td>\n",
              "      <td>0</td>\n",
              "      <td>13</td>\n",
              "      <td>United-States</td>\n",
              "      <td>&lt;=50K</td>\n",
              "    </tr>\n",
              "    <tr>\n",
              "      <th>2</th>\n",
              "      <td>38</td>\n",
              "      <td>Private</td>\n",
              "      <td>9</td>\n",
              "      <td>Divorced</td>\n",
              "      <td>Handlers-cleaners</td>\n",
              "      <td>Not-in-family</td>\n",
              "      <td>White</td>\n",
              "      <td>Male</td>\n",
              "      <td>0</td>\n",
              "      <td>0</td>\n",
              "      <td>40</td>\n",
              "      <td>United-States</td>\n",
              "      <td>&lt;=50K</td>\n",
              "    </tr>\n",
              "    <tr>\n",
              "      <th>3</th>\n",
              "      <td>53</td>\n",
              "      <td>Private</td>\n",
              "      <td>7</td>\n",
              "      <td>Married-civ-spouse</td>\n",
              "      <td>Handlers-cleaners</td>\n",
              "      <td>Husband</td>\n",
              "      <td>Black</td>\n",
              "      <td>Male</td>\n",
              "      <td>0</td>\n",
              "      <td>0</td>\n",
              "      <td>40</td>\n",
              "      <td>United-States</td>\n",
              "      <td>&lt;=50K</td>\n",
              "    </tr>\n",
              "    <tr>\n",
              "      <th>4</th>\n",
              "      <td>28</td>\n",
              "      <td>Private</td>\n",
              "      <td>13</td>\n",
              "      <td>Married-civ-spouse</td>\n",
              "      <td>Prof-specialty</td>\n",
              "      <td>Wife</td>\n",
              "      <td>Black</td>\n",
              "      <td>Female</td>\n",
              "      <td>0</td>\n",
              "      <td>0</td>\n",
              "      <td>40</td>\n",
              "      <td>Cuba</td>\n",
              "      <td>&lt;=50K</td>\n",
              "    </tr>\n",
              "  </tbody>\n",
              "</table>\n",
              "</div>\n",
              "      <button class=\"colab-df-convert\" onclick=\"convertToInteractive('df-2f76ca19-ee82-41df-8c14-9ce990df2248')\"\n",
              "              title=\"Convert this dataframe to an interactive table.\"\n",
              "              style=\"display:none;\">\n",
              "        \n",
              "  <svg xmlns=\"http://www.w3.org/2000/svg\" height=\"24px\"viewBox=\"0 0 24 24\"\n",
              "       width=\"24px\">\n",
              "    <path d=\"M0 0h24v24H0V0z\" fill=\"none\"/>\n",
              "    <path d=\"M18.56 5.44l.94 2.06.94-2.06 2.06-.94-2.06-.94-.94-2.06-.94 2.06-2.06.94zm-11 1L8.5 8.5l.94-2.06 2.06-.94-2.06-.94L8.5 2.5l-.94 2.06-2.06.94zm10 10l.94 2.06.94-2.06 2.06-.94-2.06-.94-.94-2.06-.94 2.06-2.06.94z\"/><path d=\"M17.41 7.96l-1.37-1.37c-.4-.4-.92-.59-1.43-.59-.52 0-1.04.2-1.43.59L10.3 9.45l-7.72 7.72c-.78.78-.78 2.05 0 2.83L4 21.41c.39.39.9.59 1.41.59.51 0 1.02-.2 1.41-.59l7.78-7.78 2.81-2.81c.8-.78.8-2.07 0-2.86zM5.41 20L4 18.59l7.72-7.72 1.47 1.35L5.41 20z\"/>\n",
              "  </svg>\n",
              "      </button>\n",
              "      \n",
              "  <style>\n",
              "    .colab-df-container {\n",
              "      display:flex;\n",
              "      flex-wrap:wrap;\n",
              "      gap: 12px;\n",
              "    }\n",
              "\n",
              "    .colab-df-convert {\n",
              "      background-color: #E8F0FE;\n",
              "      border: none;\n",
              "      border-radius: 50%;\n",
              "      cursor: pointer;\n",
              "      display: none;\n",
              "      fill: #1967D2;\n",
              "      height: 32px;\n",
              "      padding: 0 0 0 0;\n",
              "      width: 32px;\n",
              "    }\n",
              "\n",
              "    .colab-df-convert:hover {\n",
              "      background-color: #E2EBFA;\n",
              "      box-shadow: 0px 1px 2px rgba(60, 64, 67, 0.3), 0px 1px 3px 1px rgba(60, 64, 67, 0.15);\n",
              "      fill: #174EA6;\n",
              "    }\n",
              "\n",
              "    [theme=dark] .colab-df-convert {\n",
              "      background-color: #3B4455;\n",
              "      fill: #D2E3FC;\n",
              "    }\n",
              "\n",
              "    [theme=dark] .colab-df-convert:hover {\n",
              "      background-color: #434B5C;\n",
              "      box-shadow: 0px 1px 3px 1px rgba(0, 0, 0, 0.15);\n",
              "      filter: drop-shadow(0px 1px 2px rgba(0, 0, 0, 0.3));\n",
              "      fill: #FFFFFF;\n",
              "    }\n",
              "  </style>\n",
              "\n",
              "      <script>\n",
              "        const buttonEl =\n",
              "          document.querySelector('#df-2f76ca19-ee82-41df-8c14-9ce990df2248 button.colab-df-convert');\n",
              "        buttonEl.style.display =\n",
              "          google.colab.kernel.accessAllowed ? 'block' : 'none';\n",
              "\n",
              "        async function convertToInteractive(key) {\n",
              "          const element = document.querySelector('#df-2f76ca19-ee82-41df-8c14-9ce990df2248');\n",
              "          const dataTable =\n",
              "            await google.colab.kernel.invokeFunction('convertToInteractive',\n",
              "                                                     [key], {});\n",
              "          if (!dataTable) return;\n",
              "\n",
              "          const docLinkHtml = 'Like what you see? Visit the ' +\n",
              "            '<a target=\"_blank\" href=https://colab.research.google.com/notebooks/data_table.ipynb>data table notebook</a>'\n",
              "            + ' to learn more about interactive tables.';\n",
              "          element.innerHTML = '';\n",
              "          dataTable['output_type'] = 'display_data';\n",
              "          await google.colab.output.renderOutput(dataTable, element);\n",
              "          const docLink = document.createElement('div');\n",
              "          docLink.innerHTML = docLinkHtml;\n",
              "          element.appendChild(docLink);\n",
              "        }\n",
              "      </script>\n",
              "    </div>\n",
              "  </div>\n",
              "  "
            ]
          },
          "metadata": {},
          "execution_count": 18
        }
      ]
    },
    {
      "cell_type": "markdown",
      "source": [
        "**Manejo de datos categoricos**\n",
        "\n",
        "Se hace la visualizacion de los datos categoricos y su incidencia sobre la preparacion de los datos en general.\n"
      ],
      "metadata": {
        "id": "xs0iyBb8ElPc"
      }
    },
    {
      "cell_type": "code",
      "source": [
        "# Se hace la revision sobre los datos categoricos del df\n",
        "atributos_categoricos = df_censo_adulto.select_dtypes(include=['object'])\n",
        "print(atributos_categoricos.columns)"
      ],
      "metadata": {
        "colab": {
          "base_uri": "https://localhost:8080/"
        },
        "id": "7vYrNXtVElxD",
        "outputId": "378510e4-efb3-4721-e39c-04d54800fc9a"
      },
      "execution_count": null,
      "outputs": [
        {
          "output_type": "stream",
          "name": "stdout",
          "text": [
            "Index(['workclass', 'marital-status', 'occupation', 'relationship', 'race',\n",
            "       'sex', 'native-country', 'salary'],\n",
            "      dtype='object')\n"
          ]
        }
      ]
    },
    {
      "cell_type": "code",
      "source": [
        "# Se requiere hacer una visualizacion grafica sobre los datos categoricos.\n",
        "sns.countplot(data = atributos_categoricos, hue='salary', y = 'workclass')\n",
        "plt.title(\"DATOS CATEGORICOS (tipo de trabajo vs ingresos)\")\n",
        "plt.show()"
      ],
      "metadata": {
        "colab": {
          "base_uri": "https://localhost:8080/",
          "height": 295
        },
        "id": "X4549kooEobA",
        "outputId": "fc213af5-c812-4349-8a1a-c14fc1181820"
      },
      "execution_count": null,
      "outputs": [
        {
          "output_type": "display_data",
          "data": {
            "text/plain": [
              "<Figure size 432x288 with 1 Axes>"
            ],
            "image/png": "[encoded data removed]"
          },
          "metadata": {
            "needs_background": "light"
          }
        }
      ]
    },
    {
      "cell_type": "code",
      "source": [
        "for atributo in atributos_categoricos:\n",
        "  sns.countplot(data = df_censo_adulto, x = atributo, hue='salary')\n",
        "  plt.title('Grafica: cantidad vs '+atributo+' <Data_train>')\n",
        "  plt.show()\n",
        "\n",
        "  sns.countplot(data = df_censo_test, x = atributo)\n",
        "  plt.title('Grafica: cantidad vs '+atributo+' <Data_test>')\n",
        "  plt.show()"
      ],
      "metadata": {
        "colab": {
          "base_uri": "https://localhost:8080/",
          "height": 1000
        },
        "id": "GOOnzbCjGAXd",
        "outputId": "1bb0e7c2-4f6b-4ad1-d421-b42f3b9fdb94"
      },
      "execution_count": null,
      "outputs": [
        {
          "output_type": "display_data",
          "data": {
            "text/plain": [
              "<Figure size 432x288 with 1 Axes>"
            ],
            "image/png": "[encoded data removed]"
          },
          "metadata": {
            "needs_background": "light"
          }
        },
        {
          "output_type": "display_data",
          "data": {
            "text/plain": [
              "<Figure size 432x288 with 1 Axes>"
            ],
            "image/png": "[encoded data removed]"
          },
          "metadata": {
            "needs_background": "light"
          }
        },
        {
          "output_type": "display_data",
          "data": {
            "text/plain": [
              "<Figure size 432x288 with 1 Axes>"
            ],
            "image/png": "[encoded data removed]"
          },
          "metadata": {
            "needs_background": "light"
          }
        },
        {
          "output_type": "display_data",
          "data": {
            "text/plain": [
              "<Figure size 432x288 with 1 Axes>"
            ],
            "image/png": "[encoded data removed]"
          },
          "metadata": {
            "needs_background": "light"
          }
        },
        {
          "output_type": "display_data",
          "data": {
            "text/plain": [
              "<Figure size 432x288 with 1 Axes>"
            ],
            "image/png": "[encoded data removed]"
          },
          "metadata": {
            "needs_background": "light"
          }
        },
        {
          "output_type": "display_data",
          "data": {
            "text/plain": [
              "<Figure size 432x288 with 1 Axes>"
            ],
            "image/png": "[encoded data removed]"
          },
          "metadata": {
            "needs_background": "light"
          }
        },
        {
          "output_type": "display_data",
          "data": {
            "text/plain": [
              "<Figure size 432x288 with 1 Axes>"
            ],
            "image/png": "[encoded data removed]"
          },
          "metadata": {
            "needs_background": "light"
          }
        },
        {
          "output_type": "display_data",
          "data": {
            "text/plain": [
              "<Figure size 432x288 with 1 Axes>"
            ],
            "image/png": "[encoded data removed]"
          },
          "metadata": {
            "needs_background": "light"
          }
        },
        {
          "output_type": "display_data",
          "data": {
            "text/plain": [
              "<Figure size 432x288 with 1 Axes>"
            ],
            "image/png": "[encoded data removed]"
          },
          "metadata": {
            "needs_background": "light"
          }
        },
        {
          "output_type": "display_data",
          "data": {
            "text/plain": [
              "<Figure size 432x288 with 1 Axes>"
            ],
            "image/png": "[encoded data removed]"
          },
          "metadata": {
            "needs_background": "light"
          }
        },
        {
          "output_type": "display_data",
          "data": {
            "text/plain": [
              "<Figure size 432x288 with 1 Axes>"
            ],
            "image/png": "[encoded data removed]"
          },
          "metadata": {
            "needs_background": "light"
          }
        },
        {
          "output_type": "display_data",
          "data": {
            "text/plain": [
              "<Figure size 432x288 with 1 Axes>"
            ],
            "image/png": "[encoded data removed]"
          },
          "metadata": {
            "needs_background": "light"
          }
        },
        {
          "output_type": "display_data",
          "data": {
            "text/plain": [
              "<Figure size 432x288 with 1 Axes>"
            ],
            "image/png": "[encoded data removed]"
          },
          "metadata": {
            "needs_background": "light"
          }
        },
        {
          "output_type": "display_data",
          "data": {
            "text/plain": [
              "<Figure size 432x288 with 1 Axes>"
            ],
            "image/png": "[encoded data removed]"
          },
          "metadata": {
            "needs_background": "light"
          }
        },
        {
          "output_type": "display_data",
          "data": {
            "text/plain": [
              "<Figure size 432x288 with 1 Axes>"
            ],
            "image/png": "[encoded data removed]"
          },
          "metadata": {
            "needs_background": "light"
          }
        },
        {
          "output_type": "display_data",
          "data": {
            "text/plain": [
              "<Figure size 432x288 with 1 Axes>"
            ],
            "image/png": "[encoded data removed]"
          },
          "metadata": {
            "needs_background": "light"
          }
        }
      ]
    },
    {
      "cell_type": "markdown",
      "source": [
        "**OBSERVACIONES**\n",
        "\n",
        "1. Existen mas hombres que mujeres en los dataframes.\n",
        "2. La mayoria de las personas del censo son nativas EE.UU, luego aparecen personas de la India y Mexico. \n",
        "3. La raza blanca predomina sobre las demas razas. "
      ],
      "metadata": {
        "id": "3wbfFeKfIIhH"
      }
    },
    {
      "cell_type": "markdown",
      "source": [
        "**VISUALIZACION SOBRE LAS VARIABLES AGE Y SALARY**\n"
      ],
      "metadata": {
        "id": "AYdxkhNnKhCJ"
      }
    },
    {
      "cell_type": "code",
      "source": [
        "# Se hacen dos graficas para ver el comportamiento de la distribucion del salario. \n",
        "fig, ax = plt.subplots()\n",
        "ax.hist(df_censo_adulto[df_censo_adulto['salary'] ==' <=50K']['age'],bins = 30, density = True,label =' <=50K')\n",
        "ax.hist(df_censo_adulto[df_censo_adulto['salary'] ==' >50K']['age'],bins = 30, density = True,label =' >50K')\n",
        "\n",
        "# Se pinta la curva para revisar su distribucion kde\n",
        "# La curva kde representa el como los datos se ajustan en una curva para determinar si tiene un comportamiento normal.  \n",
        "# Distribucion normal gaussiana: Hace referencia a que el comportamiento esperado según el escenario. \n",
        "df_censo_adulto[df_censo_adulto['salary'] ==' <=50K']['age'].plot(kind ='kde',label = '',ax = ax)\n",
        "df_censo_adulto[df_censo_adulto['salary'] ==' >50K']['age'].plot(kind ='kde',label = '',ax = ax)\n",
        "\n",
        "# Ajuste de los ejes\n",
        "ax.set_xlim(0,90)\n",
        "ax.set_xlabel('Edad')\n",
        "ax.set_title('Visualización de distribución Salario vs Edad')\n",
        "\n",
        "plt.legend()\n",
        "plt.show()"
      ],
      "metadata": {
        "colab": {
          "base_uri": "https://localhost:8080/",
          "height": 295
        },
        "id": "h8VZpOdYKq8l",
        "outputId": "07f8a646-13bb-4038-8aea-a78ab5532900"
      },
      "execution_count": null,
      "outputs": [
        {
          "output_type": "display_data",
          "data": {
            "text/plain": [
              "<Figure size 432x288 with 1 Axes>"
            ],
            "image/png": "[encoded data removed]"
          },
          "metadata": {
            "needs_background": "light"
          }
        }
      ]
    },
    {
      "cell_type": "markdown",
      "source": [
        "**VISUALIZACION SOBRE LAS VARIABLES CAPITAL-GAIN Y SALARY**"
      ],
      "metadata": {
        "id": "nubMzY2FQZz9"
      }
    },
    {
      "cell_type": "code",
      "source": [
        "# Se hacen dos graficas para ver el comportamiento de la distribucion del salario. \n",
        "fig, ax = plt.subplots()\n",
        "ax.hist(df_censo_adulto[df_censo_adulto['salary'] ==' <=50K']['capital-gain'],bins = 30, density = True,label =' <=50K')\n",
        "ax.hist(df_censo_adulto[df_censo_adulto['salary'] ==' >50K']['capital-gain'],bins = 30, density = True,label =' >50K')\n",
        "\n",
        "# Se pinta la curva para revisar su distribucion kde\n",
        "df_censo_adulto[df_censo_adulto['salary'] ==' <=50K']['capital-gain'].plot(kind ='kde',label = '',ax = ax)\n",
        "df_censo_adulto[df_censo_adulto['salary'] ==' >50K']['capital-gain'].plot(kind ='kde',label = '',ax = ax)\n",
        "\n",
        "# Ajuste de los ejes\n",
        "ax.set_xlim(0,10000)\n",
        "ax.set_xlabel('Edad')\n",
        "ax.set_title('Visualización de distribución Salario vs Edad')\n",
        "\n",
        "plt.legend()\n",
        "plt.show()"
      ],
      "metadata": {
        "colab": {
          "base_uri": "https://localhost:8080/",
          "height": 295
        },
        "id": "Hco1SLR-QjWt",
        "outputId": "9b2d7fea-86c2-4cb6-d82b-361d8f5b00d0"
      },
      "execution_count": null,
      "outputs": [
        {
          "output_type": "display_data",
          "data": {
            "text/plain": [
              "<Figure size 432x288 with 1 Axes>"
            ],
            "image/png": "[encoded data removed]"
          },
          "metadata": {
            "needs_background": "light"
          }
        }
      ]
    },
    {
      "cell_type": "markdown",
      "source": [
        "**VISUALIZACION SOBRE LAS VARIABLES CAPITAL-LOSS Y SALARY**"
      ],
      "metadata": {
        "id": "ZrF4wh_BRmS7"
      }
    },
    {
      "cell_type": "code",
      "source": [
        "# Se hacen dos graficas para ver el comportamiento de la distribucion del salario. \n",
        "fig, ax = plt.subplots()\n",
        "ax.hist(df_censo_adulto[df_censo_adulto['salary'] ==' <=50K']['capital-loss'],bins = 30, density = True,label =' <=50K')\n",
        "ax.hist(df_censo_adulto[df_censo_adulto['salary'] ==' >50K']['capital-loss'],bins = 30, density = True,label =' >50K')\n",
        "\n",
        "# Se pinta la curva para revisar su distribucion kde\n",
        "df_censo_adulto[df_censo_adulto['salary'] ==' <=50K']['capital-loss'].plot(kind ='kde',label = '',ax = ax)\n",
        "df_censo_adulto[df_censo_adulto['salary'] ==' >50K']['capital-loss'].plot(kind ='kde',label = '',ax = ax)\n",
        "\n",
        "# Ajuste de los ejes\n",
        "ax.set_xlim(0,200)\n",
        "ax.set_xlabel('Edad')\n",
        "ax.set_title('Visualización de distribución Salario vs Edad')\n",
        "\n",
        "plt.legend()\n",
        "plt.show()"
      ],
      "metadata": {
        "colab": {
          "base_uri": "https://localhost:8080/",
          "height": 295
        },
        "id": "BSUiiK7jRbFO",
        "outputId": "2910bffd-09dc-4802-d848-be776c827516"
      },
      "execution_count": null,
      "outputs": [
        {
          "output_type": "display_data",
          "data": {
            "text/plain": [
              "<Figure size 432x288 with 1 Axes>"
            ],
            "image/png": "[encoded data removed]"
          },
          "metadata": {
            "needs_background": "light"
          }
        }
      ]
    },
    {
      "cell_type": "markdown",
      "source": [
        "**COLUMNA 'SALARY'**\n",
        "\n",
        "* La columna representa los datos del ingreso segun el censo de 1994 en USA.\n",
        "* La columna se representa como la variable dependiente para el estudio.\n",
        "* La columna muestra como variable categorica, la cual ha de transformarse en una variable binaria (0,1). Es decir, valores inferiores a $50k es igual 0, en caso contrario, es igual a 1. \n",
        "* Se decide hacer una funcion incognita o lambda, con la funcion apply de pandas sobre toda la columna \n",
        "* Se crea una columna nueva 'Ingresos' la cual sustituye a la columna 'salary' \n"
      ],
      "metadata": {
        "id": "C-clzEoxRQ8Y"
      }
    },
    {
      "cell_type": "code",
      "source": [
        "df_censo_adulto['income'] = df_censo_adulto['salary'].apply(lambda x:0 if x== ' <=50k' else 1)\n",
        "df_censo_test['income'] = df_censo_test['salary'].apply(lambda x:0 if x== ' <=50k' else 1)\n",
        "df_censo_adulto.drop(['salary'],axis=1, inplace=True)\n",
        "df_censo_test.drop(['salary'],axis=1, inplace=True)"
      ],
      "metadata": {
        "id": "tX8yZjohSRMx"
      },
      "execution_count": null,
      "outputs": []
    },
    {
      "cell_type": "code",
      "source": [
        "df_censo_adulto.info()"
      ],
      "metadata": {
        "colab": {
          "base_uri": "https://localhost:8080/"
        },
        "id": "T_JrihbiTx2J",
        "outputId": "a4d7d99d-4ddc-4e69-ae57-296e6508d04f"
      },
      "execution_count": null,
      "outputs": [
        {
          "output_type": "stream",
          "name": "stdout",
          "text": [
            "<class 'pandas.core.frame.DataFrame'>\n",
            "Int64Index: 30162 entries, 0 to 32560\n",
            "Data columns (total 13 columns):\n",
            " #   Column          Non-Null Count  Dtype \n",
            "---  ------          --------------  ----- \n",
            " 0   age             30162 non-null  int64 \n",
            " 1   workclass       30162 non-null  object\n",
            " 2   education-num   30162 non-null  int64 \n",
            " 3   marital-status  30162 non-null  object\n",
            " 4   occupation      30162 non-null  object\n",
            " 5   relationship    30162 non-null  object\n",
            " 6   race            30162 non-null  object\n",
            " 7   sex             30162 non-null  object\n",
            " 8   capital-gain    30162 non-null  int64 \n",
            " 9   capital-loss    30162 non-null  int64 \n",
            " 10  hours-per-week  30162 non-null  int64 \n",
            " 11  native-country  30162 non-null  object\n",
            " 12  income          30162 non-null  int64 \n",
            "dtypes: int64(6), object(7)\n",
            "memory usage: 4.2+ MB\n"
          ]
        }
      ]
    },
    {
      "cell_type": "markdown",
      "source": [
        "**Se observan las cartacteristicas de las variables del tipo objeto pendientes**"
      ],
      "metadata": {
        "id": "rusvpIv2VMA4"
      }
    },
    {
      "cell_type": "code",
      "source": [
        "print(f\"La columna 'workclass' tiene: \\n {df_censo_adulto['workclass'].unique()}\")\n",
        "print(f\"\\nLa columna 'marital-status' tiene: \\n {df_censo_adulto['marital-status'].unique()}\")\n",
        "print(f\"\\nLa columna 'occupations' tiene: \\n {df_censo_adulto['occupation'].unique()}\")\n",
        "print(f\"\\nLa columna 'relationship' tiene: \\n {df_censo_adulto['relationship'].unique()}\")\n",
        "print(f\"\\nLa columna 'race' tiene: \\n {df_censo_adulto['race'].unique()}\")\n",
        "print(f\"\\nLa columna 'sex' tiene: \\n {df_censo_adulto['sex'].unique()}\")\n",
        "print(f\"\\nLa columna 'native-country' tiene: \\n {df_censo_adulto['native-country'].unique()}\")"
      ],
      "metadata": {
        "colab": {
          "base_uri": "https://localhost:8080/"
        },
        "id": "qcqGSxn1Ul0_",
        "outputId": "3cb940a8-0264-49b9-a7d7-908fa9abd6aa"
      },
      "execution_count": null,
      "outputs": [
        {
          "output_type": "stream",
          "name": "stdout",
          "text": [
            "La columna 'workclass' tiene: \n",
            " [' State-gov' ' Self-emp-not-inc' ' Private' ' Federal-gov' ' Local-gov'\n",
            " ' Self-emp-inc' ' Without-pay']\n",
            "\n",
            "La columna 'marital-status' tiene: \n",
            " [' Never-married' ' Married-civ-spouse' ' Divorced'\n",
            " ' Married-spouse-absent' ' Separated' ' Married-AF-spouse' ' Widowed']\n",
            "\n",
            "La columna 'occupations' tiene: \n",
            " [' Adm-clerical' ' Exec-managerial' ' Handlers-cleaners' ' Prof-specialty'\n",
            " ' Other-service' ' Sales' ' Transport-moving' ' Farming-fishing'\n",
            " ' Machine-op-inspct' ' Tech-support' ' Craft-repair' ' Protective-serv'\n",
            " ' Armed-Forces' ' Priv-house-serv']\n",
            "\n",
            "La columna 'relationship' tiene: \n",
            " [' Not-in-family' ' Husband' ' Wife' ' Own-child' ' Unmarried'\n",
            " ' Other-relative']\n",
            "\n",
            "La columna 'race' tiene: \n",
            " [' White' ' Black' ' Asian-Pac-Islander' ' Amer-Indian-Eskimo' ' Other']\n",
            "\n",
            "La columna 'sex' tiene: \n",
            " [' Male' ' Female']\n",
            "\n",
            "La columna 'native-country' tiene: \n",
            " [' United-States' ' Cuba' ' Jamaica' ' India' ' Mexico' ' Puerto-Rico'\n",
            " ' Honduras' ' England' ' Canada' ' Germany' ' Iran' ' Philippines'\n",
            " ' Poland' ' Columbia' ' Cambodia' ' Thailand' ' Ecuador' ' Laos'\n",
            " ' Taiwan' ' Haiti' ' Portugal' ' Dominican-Republic' ' El-Salvador'\n",
            " ' France' ' Guatemala' ' Italy' ' China' ' South' ' Japan' ' Yugoslavia'\n",
            " ' Peru' ' Outlying-US(Guam-USVI-etc)' ' Scotland' ' Trinadad&Tobago'\n",
            " ' Greece' ' Nicaragua' ' Vietnam' ' Hong' ' Ireland' ' Hungary'\n",
            " ' Holand-Netherlands']\n"
          ]
        }
      ]
    },
    {
      "cell_type": "markdown",
      "source": [
        "**Se procede a tratar el fg de entrenamiento**\n",
        "\n",
        "* Dada la revision sobre los datos categoricos (tipo objetos), se toma la decision de usar la imputacion basada en la funcion get_dummies de pandas.\n",
        "* La funcion get_dummies convierte los datos categoricos en datos numericos. \n",
        "* La funcion get_dummies creará columnas llenas de ceros para las categorias que no esten presentes en la lista, por cada categoria de esa columna. \n",
        "* La transformacion tomara como argumento 'drop_first', la cual indica si deberia eliminar la primera columna despues de crear el dummy usando la funcion get_dummies\n",
        "* Lo anterior, representa evitar la multicolinealidad.\n",
        "\n",
        "**Se define una clase para el tratamiento completo, aplicando lo anterior.**"
      ],
      "metadata": {
        "id": "AA0gv_EtYKax"
      }
    },
    {
      "cell_type": "code",
      "source": [
        "#class DecodificadorCategorico(Estimador, TransformerMixin):\n",
        "  #def _init_(self, dropFirst = True):\n",
        "    #self.categories = dict()\n",
        "    #self.dropFirst = dropFirst\n",
        "  # Selector de tipo "
      ],
      "metadata": {
        "id": "yLy_E_tRVK7z"
      },
      "execution_count": null,
      "outputs": []
    },
    {
      "cell_type": "markdown",
      "source": [
        "**Se procede a tratar el df de entrenamiento**\n",
        "* Se hace un df por cada variable catefotica \n",
        "* Posteriormente se concatena con el df de entrenamiento\n",
        "* Se eliminan las columnas categoricas"
      ],
      "metadata": {
        "id": "9xyTtuv7g0vl"
      }
    },
    {
      "cell_type": "code",
      "source": [
        "# Decodificanco cada variable categorica \n",
        "df_work = pd.get_dummies(data = list(df_censo_adulto['workclass']))\n",
        "df_marital = pd.get_dummies(data = list(df_censo_adulto['marital-status']))\n",
        "df_occupation = pd.get_dummies(data = list(df_censo_adulto['occupation']))\n",
        "df_relationship = pd.get_dummies(data = list(df_censo_adulto['relationship']))\n",
        "df_race = pd.get_dummies(data = list(df_censo_adulto['race']))\n",
        "df_sex = pd.get_dummies(data = list(df_censo_adulto['sex']))\n",
        "df_native = pd.get_dummies(data = list(df_censo_adulto['native-country']))"
      ],
      "metadata": {
        "id": "sSutls0qfg2M"
      },
      "execution_count": null,
      "outputs": []
    },
    {
      "cell_type": "code",
      "source": [
        "# Se procede a concatenar con el df de entrenamiento\n",
        "df_censo_adulto = pd.concat([df_censo_adulto,df_work,df_marital,df_occupation,df_relationship,df_race,df_sex],axis=1)\n",
        "df_censo_adulto.drop(['workclass','marital-status','occupation','relationship','race','sex','native-country'],axis=1,inplace=True)\n",
        "df_censo_adulto.head() "
      ],
      "metadata": {
        "colab": {
          "base_uri": "https://localhost:8080/",
          "height": 314
        },
        "id": "OPbHSLqqgDB_",
        "outputId": "1402091c-4650-4735-e6cc-e7548ef7a609"
      },
      "execution_count": null,
      "outputs": [
        {
          "output_type": "execute_result",
          "data": {
            "text/plain": [
              "    age  education-num  capital-gain  capital-loss  hours-per-week  income  \\\n",
              "0  39.0           13.0        2174.0           0.0            40.0     1.0   \n",
              "1  50.0           13.0           0.0           0.0            13.0     1.0   \n",
              "2  38.0            9.0           0.0           0.0            40.0     1.0   \n",
              "3  53.0            7.0           0.0           0.0            40.0     1.0   \n",
              "4  28.0           13.0           0.0           0.0            40.0     1.0   \n",
              "\n",
              "    Federal-gov   Local-gov   Private   Self-emp-inc  ...   Own-child  \\\n",
              "0           0.0         0.0       0.0            0.0  ...         0.0   \n",
              "1           0.0         0.0       0.0            0.0  ...         0.0   \n",
              "2           0.0         0.0       1.0            0.0  ...         0.0   \n",
              "3           0.0         0.0       1.0            0.0  ...         0.0   \n",
              "4           0.0         0.0       1.0            0.0  ...         0.0   \n",
              "\n",
              "    Unmarried   Wife   Amer-Indian-Eskimo   Asian-Pac-Islander   Black  \\\n",
              "0         0.0    0.0                  0.0                  0.0     0.0   \n",
              "1         0.0    0.0                  0.0                  0.0     0.0   \n",
              "2         0.0    0.0                  0.0                  0.0     0.0   \n",
              "3         0.0    0.0                  0.0                  0.0     1.0   \n",
              "4         0.0    1.0                  0.0                  0.0     1.0   \n",
              "\n",
              "    Other   White   Female   Male  \n",
              "0     0.0     1.0      0.0    1.0  \n",
              "1     0.0     1.0      0.0    1.0  \n",
              "2     0.0     1.0      0.0    1.0  \n",
              "3     0.0     0.0      0.0    1.0  \n",
              "4     0.0     0.0      1.0    0.0  \n",
              "\n",
              "[5 rows x 47 columns]"
            ],
            "text/html": [
              "\n",
              "  <div id=\"df-24f51acb-5061-45fa-9b4a-6a24b030c057\">\n",
              "    <div class=\"colab-df-container\">\n",
              "      <div>\n",
              "<style scoped>\n",
              "    .dataframe tbody tr th:only-of-type {\n",
              "        vertical-align: middle;\n",
              "    }\n",
              "\n",
              "    .dataframe tbody tr th {\n",
              "        vertical-align: top;\n",
              "    }\n",
              "\n",
              "    .dataframe thead th {\n",
              "        text-align: right;\n",
              "    }\n",
              "</style>\n",
              "<table border=\"1\" class=\"dataframe\">\n",
              "  <thead>\n",
              "    <tr style=\"text-align: right;\">\n",
              "      <th></th>\n",
              "      <th>age</th>\n",
              "      <th>education-num</th>\n",
              "      <th>capital-gain</th>\n",
              "      <th>capital-loss</th>\n",
              "      <th>hours-per-week</th>\n",
              "      <th>income</th>\n",
              "      <th>Federal-gov</th>\n",
              "      <th>Local-gov</th>\n",
              "      <th>Private</th>\n",
              "      <th>Self-emp-inc</th>\n",
              "      <th>...</th>\n",
              "      <th>Own-child</th>\n",
              "      <th>Unmarried</th>\n",
              "      <th>Wife</th>\n",
              "      <th>Amer-Indian-Eskimo</th>\n",
              "      <th>Asian-Pac-Islander</th>\n",
              "      <th>Black</th>\n",
              "      <th>Other</th>\n",
              "      <th>White</th>\n",
              "      <th>Female</th>\n",
              "      <th>Male</th>\n",
              "    </tr>\n",
              "  </thead>\n",
              "  <tbody>\n",
              "    <tr>\n",
              "      <th>0</th>\n",
              "      <td>39.0</td>\n",
              "      <td>13.0</td>\n",
              "      <td>2174.0</td>\n",
              "      <td>0.0</td>\n",
              "      <td>40.0</td>\n",
              "      <td>1.0</td>\n",
              "      <td>0.0</td>\n",
              "      <td>0.0</td>\n",
              "      <td>0.0</td>\n",
              "      <td>0.0</td>\n",
              "      <td>...</td>\n",
              "      <td>0.0</td>\n",
              "      <td>0.0</td>\n",
              "      <td>0.0</td>\n",
              "      <td>0.0</td>\n",
              "      <td>0.0</td>\n",
              "      <td>0.0</td>\n",
              "      <td>0.0</td>\n",
              "      <td>1.0</td>\n",
              "      <td>0.0</td>\n",
              "      <td>1.0</td>\n",
              "    </tr>\n",
              "    <tr>\n",
              "      <th>1</th>\n",
              "      <td>50.0</td>\n",
              "      <td>13.0</td>\n",
              "      <td>0.0</td>\n",
              "      <td>0.0</td>\n",
              "      <td>13.0</td>\n",
              "      <td>1.0</td>\n",
              "      <td>0.0</td>\n",
              "      <td>0.0</td>\n",
              "      <td>0.0</td>\n",
              "      <td>0.0</td>\n",
              "      <td>...</td>\n",
              "      <td>0.0</td>\n",
              "      <td>0.0</td>\n",
              "      <td>0.0</td>\n",
              "      <td>0.0</td>\n",
              "      <td>0.0</td>\n",
              "      <td>0.0</td>\n",
              "      <td>0.0</td>\n",
              "      <td>1.0</td>\n",
              "      <td>0.0</td>\n",
              "      <td>1.0</td>\n",
              "    </tr>\n",
              "    <tr>\n",
              "      <th>2</th>\n",
              "      <td>38.0</td>\n",
              "      <td>9.0</td>\n",
              "      <td>0.0</td>\n",
              "      <td>0.0</td>\n",
              "      <td>40.0</td>\n",
              "      <td>1.0</td>\n",
              "      <td>0.0</td>\n",
              "      <td>0.0</td>\n",
              "      <td>1.0</td>\n",
              "      <td>0.0</td>\n",
              "      <td>...</td>\n",
              "      <td>0.0</td>\n",
              "      <td>0.0</td>\n",
              "      <td>0.0</td>\n",
              "      <td>0.0</td>\n",
              "      <td>0.0</td>\n",
              "      <td>0.0</td>\n",
              "      <td>0.0</td>\n",
              "      <td>1.0</td>\n",
              "      <td>0.0</td>\n",
              "      <td>1.0</td>\n",
              "    </tr>\n",
              "    <tr>\n",
              "      <th>3</th>\n",
              "      <td>53.0</td>\n",
              "      <td>7.0</td>\n",
              "      <td>0.0</td>\n",
              "      <td>0.0</td>\n",
              "      <td>40.0</td>\n",
              "      <td>1.0</td>\n",
              "      <td>0.0</td>\n",
              "      <td>0.0</td>\n",
              "      <td>1.0</td>\n",
              "      <td>0.0</td>\n",
              "      <td>...</td>\n",
              "      <td>0.0</td>\n",
              "      <td>0.0</td>\n",
              "      <td>0.0</td>\n",
              "      <td>0.0</td>\n",
              "      <td>0.0</td>\n",
              "      <td>1.0</td>\n",
              "      <td>0.0</td>\n",
              "      <td>0.0</td>\n",
              "      <td>0.0</td>\n",
              "      <td>1.0</td>\n",
              "    </tr>\n",
              "    <tr>\n",
              "      <th>4</th>\n",
              "      <td>28.0</td>\n",
              "      <td>13.0</td>\n",
              "      <td>0.0</td>\n",
              "      <td>0.0</td>\n",
              "      <td>40.0</td>\n",
              "      <td>1.0</td>\n",
              "      <td>0.0</td>\n",
              "      <td>0.0</td>\n",
              "      <td>1.0</td>\n",
              "      <td>0.0</td>\n",
              "      <td>...</td>\n",
              "      <td>0.0</td>\n",
              "      <td>0.0</td>\n",
              "      <td>1.0</td>\n",
              "      <td>0.0</td>\n",
              "      <td>0.0</td>\n",
              "      <td>1.0</td>\n",
              "      <td>0.0</td>\n",
              "      <td>0.0</td>\n",
              "      <td>1.0</td>\n",
              "      <td>0.0</td>\n",
              "    </tr>\n",
              "  </tbody>\n",
              "</table>\n",
              "<p>5 rows × 47 columns</p>\n",
              "</div>\n",
              "      <button class=\"colab-df-convert\" onclick=\"convertToInteractive('df-24f51acb-5061-45fa-9b4a-6a24b030c057')\"\n",
              "              title=\"Convert this dataframe to an interactive table.\"\n",
              "              style=\"display:none;\">\n",
              "        \n",
              "  <svg xmlns=\"http://www.w3.org/2000/svg\" height=\"24px\"viewBox=\"0 0 24 24\"\n",
              "       width=\"24px\">\n",
              "    <path d=\"M0 0h24v24H0V0z\" fill=\"none\"/>\n",
              "    <path d=\"M18.56 5.44l.94 2.06.94-2.06 2.06-.94-2.06-.94-.94-2.06-.94 2.06-2.06.94zm-11 1L8.5 8.5l.94-2.06 2.06-.94-2.06-.94L8.5 2.5l-.94 2.06-2.06.94zm10 10l.94 2.06.94-2.06 2.06-.94-2.06-.94-.94-2.06-.94 2.06-2.06.94z\"/><path d=\"M17.41 7.96l-1.37-1.37c-.4-.4-.92-.59-1.43-.59-.52 0-1.04.2-1.43.59L10.3 9.45l-7.72 7.72c-.78.78-.78 2.05 0 2.83L4 21.41c.39.39.9.59 1.41.59.51 0 1.02-.2 1.41-.59l7.78-7.78 2.81-2.81c.8-.78.8-2.07 0-2.86zM5.41 20L4 18.59l7.72-7.72 1.47 1.35L5.41 20z\"/>\n",
              "  </svg>\n",
              "      </button>\n",
              "      \n",
              "  <style>\n",
              "    .colab-df-container {\n",
              "      display:flex;\n",
              "      flex-wrap:wrap;\n",
              "      gap: 12px;\n",
              "    }\n",
              "\n",
              "    .colab-df-convert {\n",
              "      background-color: #E8F0FE;\n",
              "      border: none;\n",
              "      border-radius: 50%;\n",
              "      cursor: pointer;\n",
              "      display: none;\n",
              "      fill: #1967D2;\n",
              "      height: 32px;\n",
              "      padding: 0 0 0 0;\n",
              "      width: 32px;\n",
              "    }\n",
              "\n",
              "    .colab-df-convert:hover {\n",
              "      background-color: #E2EBFA;\n",
              "      box-shadow: 0px 1px 2px rgba(60, 64, 67, 0.3), 0px 1px 3px 1px rgba(60, 64, 67, 0.15);\n",
              "      fill: #174EA6;\n",
              "    }\n",
              "\n",
              "    [theme=dark] .colab-df-convert {\n",
              "      background-color: #3B4455;\n",
              "      fill: #D2E3FC;\n",
              "    }\n",
              "\n",
              "    [theme=dark] .colab-df-convert:hover {\n",
              "      background-color: #434B5C;\n",
              "      box-shadow: 0px 1px 3px 1px rgba(0, 0, 0, 0.15);\n",
              "      filter: drop-shadow(0px 1px 2px rgba(0, 0, 0, 0.3));\n",
              "      fill: #FFFFFF;\n",
              "    }\n",
              "  </style>\n",
              "\n",
              "      <script>\n",
              "        const buttonEl =\n",
              "          document.querySelector('#df-24f51acb-5061-45fa-9b4a-6a24b030c057 button.colab-df-convert');\n",
              "        buttonEl.style.display =\n",
              "          google.colab.kernel.accessAllowed ? 'block' : 'none';\n",
              "\n",
              "        async function convertToInteractive(key) {\n",
              "          const element = document.querySelector('#df-24f51acb-5061-45fa-9b4a-6a24b030c057');\n",
              "          const dataTable =\n",
              "            await google.colab.kernel.invokeFunction('convertToInteractive',\n",
              "                                                     [key], {});\n",
              "          if (!dataTable) return;\n",
              "\n",
              "          const docLinkHtml = 'Like what you see? Visit the ' +\n",
              "            '<a target=\"_blank\" href=https://colab.research.google.com/notebooks/data_table.ipynb>data table notebook</a>'\n",
              "            + ' to learn more about interactive tables.';\n",
              "          element.innerHTML = '';\n",
              "          dataTable['output_type'] = 'display_data';\n",
              "          await google.colab.output.renderOutput(dataTable, element);\n",
              "          const docLink = document.createElement('div');\n",
              "          docLink.innerHTML = docLinkHtml;\n",
              "          element.appendChild(docLink);\n",
              "        }\n",
              "      </script>\n",
              "    </div>\n",
              "  </div>\n",
              "  "
            ]
          },
          "metadata": {},
          "execution_count": 30
        }
      ]
    },
    {
      "cell_type": "code",
      "source": [
        "# Se requiere que la columna de la variable dependiente \"income\" quede al final del dataframe. \n",
        "columnas = list(df_censo_adulto)\n",
        "print(columnas.index('income'))"
      ],
      "metadata": {
        "colab": {
          "base_uri": "https://localhost:8080/"
        },
        "id": "ZE6F3GvQCI5R",
        "outputId": "6890a73a-0b66-4755-99f4-d06211e4b848"
      },
      "execution_count": null,
      "outputs": [
        {
          "output_type": "stream",
          "name": "stdout",
          "text": [
            "5\n"
          ]
        }
      ]
    },
    {
      "cell_type": "code",
      "source": [
        "columnas[5] = columnas[-1]\n",
        "columnas_nuevas = list(columnas)\n",
        "columnas_nuevas.append('income')\n",
        "df_censo_adulto = df_censo_adulto[columnas_nuevas]\n",
        "df_censo_adulto.info()"
      ],
      "metadata": {
        "colab": {
          "base_uri": "https://localhost:8080/"
        },
        "id": "3ly0yUUODALA",
        "outputId": "da8c2c50-8f41-4ce3-cded-a81a64bcb367"
      },
      "execution_count": null,
      "outputs": [
        {
          "output_type": "stream",
          "name": "stdout",
          "text": [
            "<class 'pandas.core.frame.DataFrame'>\n",
            "Int64Index: 32368 entries, 0 to 32560\n",
            "Data columns (total 48 columns):\n",
            " #   Column                  Non-Null Count  Dtype  \n",
            "---  ------                  --------------  -----  \n",
            " 0   age                     30162 non-null  float64\n",
            " 1   education-num           30162 non-null  float64\n",
            " 2   capital-gain            30162 non-null  float64\n",
            " 3   capital-loss            30162 non-null  float64\n",
            " 4   hours-per-week          30162 non-null  float64\n",
            " 5    Male                   30162 non-null  float64\n",
            " 6    Federal-gov            30162 non-null  float64\n",
            " 7    Local-gov              30162 non-null  float64\n",
            " 8    Private                30162 non-null  float64\n",
            " 9    Self-emp-inc           30162 non-null  float64\n",
            " 10   Self-emp-not-inc       30162 non-null  float64\n",
            " 11   State-gov              30162 non-null  float64\n",
            " 12   Without-pay            30162 non-null  float64\n",
            " 13   Divorced               30162 non-null  float64\n",
            " 14   Married-AF-spouse      30162 non-null  float64\n",
            " 15   Married-civ-spouse     30162 non-null  float64\n",
            " 16   Married-spouse-absent  30162 non-null  float64\n",
            " 17   Never-married          30162 non-null  float64\n",
            " 18   Separated              30162 non-null  float64\n",
            " 19   Widowed                30162 non-null  float64\n",
            " 20   Adm-clerical           30162 non-null  float64\n",
            " 21   Armed-Forces           30162 non-null  float64\n",
            " 22   Craft-repair           30162 non-null  float64\n",
            " 23   Exec-managerial        30162 non-null  float64\n",
            " 24   Farming-fishing        30162 non-null  float64\n",
            " 25   Handlers-cleaners      30162 non-null  float64\n",
            " 26   Machine-op-inspct      30162 non-null  float64\n",
            " 27   Other-service          30162 non-null  float64\n",
            " 28   Priv-house-serv        30162 non-null  float64\n",
            " 29   Prof-specialty         30162 non-null  float64\n",
            " 30   Protective-serv        30162 non-null  float64\n",
            " 31   Sales                  30162 non-null  float64\n",
            " 32   Tech-support           30162 non-null  float64\n",
            " 33   Transport-moving       30162 non-null  float64\n",
            " 34   Husband                30162 non-null  float64\n",
            " 35   Not-in-family          30162 non-null  float64\n",
            " 36   Other-relative         30162 non-null  float64\n",
            " 37   Own-child              30162 non-null  float64\n",
            " 38   Unmarried              30162 non-null  float64\n",
            " 39   Wife                   30162 non-null  float64\n",
            " 40   Amer-Indian-Eskimo     30162 non-null  float64\n",
            " 41   Asian-Pac-Islander     30162 non-null  float64\n",
            " 42   Black                  30162 non-null  float64\n",
            " 43   Other                  30162 non-null  float64\n",
            " 44   White                  30162 non-null  float64\n",
            " 45   Female                 30162 non-null  float64\n",
            " 46   Male                   30162 non-null  float64\n",
            " 47  income                  30162 non-null  float64\n",
            "dtypes: float64(48)\n",
            "memory usage: 12.1 MB\n"
          ]
        }
      ]
    },
    {
      "cell_type": "code",
      "source": [
        "# Decodificanco cada variable categorica \n",
        "df_work = pd.get_dummies(data = list(df_censo_test['workclass']))\n",
        "df_marital = pd.get_dummies(data = list(df_censo_test['marital-status']))\n",
        "df_occupation = pd.get_dummies(data = list(df_censo_test['occupation']))\n",
        "df_relationship = pd.get_dummies(data = list(df_censo_test['relationship']))\n",
        "df_race = pd.get_dummies(data = list(df_censo_test['race']))\n",
        "df_sex = pd.get_dummies(data = list(df_censo_test['sex']))"
      ],
      "metadata": {
        "id": "d6G9WRN7j3pj"
      },
      "execution_count": null,
      "outputs": []
    },
    {
      "cell_type": "code",
      "source": [
        "# Se procede a concatenar con el df de entrenamiento\n",
        "df_censo_test = pd.concat([df_censo_test,df_work,df_marital,df_occupation,df_relationship,df_race,df_sex],axis=1)\n",
        "df_censo_test.drop(['workclass','marital-status','occupation','relationship','race','sex','native-country'],axis=1,inplace=True)\n",
        "df_censo_test.head()"
      ],
      "metadata": {
        "colab": {
          "base_uri": "https://localhost:8080/",
          "height": 314
        },
        "id": "e3ggJ6YO8fUz",
        "outputId": "f8d1d10b-26d9-41e2-8b71-cccc3b14f647"
      },
      "execution_count": null,
      "outputs": [
        {
          "output_type": "execute_result",
          "data": {
            "text/plain": [
              "    age  education-num  capital-gain  capital-loss  hours-per-week  income  \\\n",
              "0  25.0            7.0           0.0           0.0            40.0     1.0   \n",
              "1  38.0            9.0           0.0           0.0            50.0     1.0   \n",
              "2  28.0           12.0           0.0           0.0            40.0     1.0   \n",
              "3  44.0           10.0        7688.0           0.0            40.0     1.0   \n",
              "4   NaN            NaN           NaN           NaN             NaN     NaN   \n",
              "\n",
              "    Federal-gov   Local-gov   Private   Self-emp-inc  ...   Own-child  \\\n",
              "0           0.0         0.0       1.0            0.0  ...         1.0   \n",
              "1           0.0         0.0       1.0            0.0  ...         0.0   \n",
              "2           0.0         1.0       0.0            0.0  ...         0.0   \n",
              "3           0.0         0.0       1.0            0.0  ...         0.0   \n",
              "4           0.0         0.0       1.0            0.0  ...         0.0   \n",
              "\n",
              "    Unmarried   Wife   Amer-Indian-Eskimo   Asian-Pac-Islander   Black  \\\n",
              "0         0.0    0.0                  0.0                  0.0     1.0   \n",
              "1         0.0    0.0                  0.0                  0.0     0.0   \n",
              "2         0.0    0.0                  0.0                  0.0     0.0   \n",
              "3         0.0    0.0                  0.0                  0.0     1.0   \n",
              "4         0.0    0.0                  0.0                  0.0     0.0   \n",
              "\n",
              "    Other   White   Female   Male  \n",
              "0     0.0     0.0      0.0    1.0  \n",
              "1     0.0     1.0      0.0    1.0  \n",
              "2     0.0     1.0      0.0    1.0  \n",
              "3     0.0     0.0      0.0    1.0  \n",
              "4     0.0     1.0      0.0    1.0  \n",
              "\n",
              "[5 rows x 47 columns]"
            ],
            "text/html": [
              "\n",
              "  <div id=\"df-bf13823a-7af8-439d-83a7-c838706fb587\">\n",
              "    <div class=\"colab-df-container\">\n",
              "      <div>\n",
              "<style scoped>\n",
              "    .dataframe tbody tr th:only-of-type {\n",
              "        vertical-align: middle;\n",
              "    }\n",
              "\n",
              "    .dataframe tbody tr th {\n",
              "        vertical-align: top;\n",
              "    }\n",
              "\n",
              "    .dataframe thead th {\n",
              "        text-align: right;\n",
              "    }\n",
              "</style>\n",
              "<table border=\"1\" class=\"dataframe\">\n",
              "  <thead>\n",
              "    <tr style=\"text-align: right;\">\n",
              "      <th></th>\n",
              "      <th>age</th>\n",
              "      <th>education-num</th>\n",
              "      <th>capital-gain</th>\n",
              "      <th>capital-loss</th>\n",
              "      <th>hours-per-week</th>\n",
              "      <th>income</th>\n",
              "      <th>Federal-gov</th>\n",
              "      <th>Local-gov</th>\n",
              "      <th>Private</th>\n",
              "      <th>Self-emp-inc</th>\n",
              "      <th>...</th>\n",
              "      <th>Own-child</th>\n",
              "      <th>Unmarried</th>\n",
              "      <th>Wife</th>\n",
              "      <th>Amer-Indian-Eskimo</th>\n",
              "      <th>Asian-Pac-Islander</th>\n",
              "      <th>Black</th>\n",
              "      <th>Other</th>\n",
              "      <th>White</th>\n",
              "      <th>Female</th>\n",
              "      <th>Male</th>\n",
              "    </tr>\n",
              "  </thead>\n",
              "  <tbody>\n",
              "    <tr>\n",
              "      <th>0</th>\n",
              "      <td>25.0</td>\n",
              "      <td>7.0</td>\n",
              "      <td>0.0</td>\n",
              "      <td>0.0</td>\n",
              "      <td>40.0</td>\n",
              "      <td>1.0</td>\n",
              "      <td>0.0</td>\n",
              "      <td>0.0</td>\n",
              "      <td>1.0</td>\n",
              "      <td>0.0</td>\n",
              "      <td>...</td>\n",
              "      <td>1.0</td>\n",
              "      <td>0.0</td>\n",
              "      <td>0.0</td>\n",
              "      <td>0.0</td>\n",
              "      <td>0.0</td>\n",
              "      <td>1.0</td>\n",
              "      <td>0.0</td>\n",
              "      <td>0.0</td>\n",
              "      <td>0.0</td>\n",
              "      <td>1.0</td>\n",
              "    </tr>\n",
              "    <tr>\n",
              "      <th>1</th>\n",
              "      <td>38.0</td>\n",
              "      <td>9.0</td>\n",
              "      <td>0.0</td>\n",
              "      <td>0.0</td>\n",
              "      <td>50.0</td>\n",
              "      <td>1.0</td>\n",
              "      <td>0.0</td>\n",
              "      <td>0.0</td>\n",
              "      <td>1.0</td>\n",
              "      <td>0.0</td>\n",
              "      <td>...</td>\n",
              "      <td>0.0</td>\n",
              "      <td>0.0</td>\n",
              "      <td>0.0</td>\n",
              "      <td>0.0</td>\n",
              "      <td>0.0</td>\n",
              "      <td>0.0</td>\n",
              "      <td>0.0</td>\n",
              "      <td>1.0</td>\n",
              "      <td>0.0</td>\n",
              "      <td>1.0</td>\n",
              "    </tr>\n",
              "    <tr>\n",
              "      <th>2</th>\n",
              "      <td>28.0</td>\n",
              "      <td>12.0</td>\n",
              "      <td>0.0</td>\n",
              "      <td>0.0</td>\n",
              "      <td>40.0</td>\n",
              "      <td>1.0</td>\n",
              "      <td>0.0</td>\n",
              "      <td>1.0</td>\n",
              "      <td>0.0</td>\n",
              "      <td>0.0</td>\n",
              "      <td>...</td>\n",
              "      <td>0.0</td>\n",
              "      <td>0.0</td>\n",
              "      <td>0.0</td>\n",
              "      <td>0.0</td>\n",
              "      <td>0.0</td>\n",
              "      <td>0.0</td>\n",
              "      <td>0.0</td>\n",
              "      <td>1.0</td>\n",
              "      <td>0.0</td>\n",
              "      <td>1.0</td>\n",
              "    </tr>\n",
              "    <tr>\n",
              "      <th>3</th>\n",
              "      <td>44.0</td>\n",
              "      <td>10.0</td>\n",
              "      <td>7688.0</td>\n",
              "      <td>0.0</td>\n",
              "      <td>40.0</td>\n",
              "      <td>1.0</td>\n",
              "      <td>0.0</td>\n",
              "      <td>0.0</td>\n",
              "      <td>1.0</td>\n",
              "      <td>0.0</td>\n",
              "      <td>...</td>\n",
              "      <td>0.0</td>\n",
              "      <td>0.0</td>\n",
              "      <td>0.0</td>\n",
              "      <td>0.0</td>\n",
              "      <td>0.0</td>\n",
              "      <td>1.0</td>\n",
              "      <td>0.0</td>\n",
              "      <td>0.0</td>\n",
              "      <td>0.0</td>\n",
              "      <td>1.0</td>\n",
              "    </tr>\n",
              "    <tr>\n",
              "      <th>4</th>\n",
              "      <td>NaN</td>\n",
              "      <td>NaN</td>\n",
              "      <td>NaN</td>\n",
              "      <td>NaN</td>\n",
              "      <td>NaN</td>\n",
              "      <td>NaN</td>\n",
              "      <td>0.0</td>\n",
              "      <td>0.0</td>\n",
              "      <td>1.0</td>\n",
              "      <td>0.0</td>\n",
              "      <td>...</td>\n",
              "      <td>0.0</td>\n",
              "      <td>0.0</td>\n",
              "      <td>0.0</td>\n",
              "      <td>0.0</td>\n",
              "      <td>0.0</td>\n",
              "      <td>0.0</td>\n",
              "      <td>0.0</td>\n",
              "      <td>1.0</td>\n",
              "      <td>0.0</td>\n",
              "      <td>1.0</td>\n",
              "    </tr>\n",
              "  </tbody>\n",
              "</table>\n",
              "<p>5 rows × 47 columns</p>\n",
              "</div>\n",
              "      <button class=\"colab-df-convert\" onclick=\"convertToInteractive('df-bf13823a-7af8-439d-83a7-c838706fb587')\"\n",
              "              title=\"Convert this dataframe to an interactive table.\"\n",
              "              style=\"display:none;\">\n",
              "        \n",
              "  <svg xmlns=\"http://www.w3.org/2000/svg\" height=\"24px\"viewBox=\"0 0 24 24\"\n",
              "       width=\"24px\">\n",
              "    <path d=\"M0 0h24v24H0V0z\" fill=\"none\"/>\n",
              "    <path d=\"M18.56 5.44l.94 2.06.94-2.06 2.06-.94-2.06-.94-.94-2.06-.94 2.06-2.06.94zm-11 1L8.5 8.5l.94-2.06 2.06-.94-2.06-.94L8.5 2.5l-.94 2.06-2.06.94zm10 10l.94 2.06.94-2.06 2.06-.94-2.06-.94-.94-2.06-.94 2.06-2.06.94z\"/><path d=\"M17.41 7.96l-1.37-1.37c-.4-.4-.92-.59-1.43-.59-.52 0-1.04.2-1.43.59L10.3 9.45l-7.72 7.72c-.78.78-.78 2.05 0 2.83L4 21.41c.39.39.9.59 1.41.59.51 0 1.02-.2 1.41-.59l7.78-7.78 2.81-2.81c.8-.78.8-2.07 0-2.86zM5.41 20L4 18.59l7.72-7.72 1.47 1.35L5.41 20z\"/>\n",
              "  </svg>\n",
              "      </button>\n",
              "      \n",
              "  <style>\n",
              "    .colab-df-container {\n",
              "      display:flex;\n",
              "      flex-wrap:wrap;\n",
              "      gap: 12px;\n",
              "    }\n",
              "\n",
              "    .colab-df-convert {\n",
              "      background-color: #E8F0FE;\n",
              "      border: none;\n",
              "      border-radius: 50%;\n",
              "      cursor: pointer;\n",
              "      display: none;\n",
              "      fill: #1967D2;\n",
              "      height: 32px;\n",
              "      padding: 0 0 0 0;\n",
              "      width: 32px;\n",
              "    }\n",
              "\n",
              "    .colab-df-convert:hover {\n",
              "      background-color: #E2EBFA;\n",
              "      box-shadow: 0px 1px 2px rgba(60, 64, 67, 0.3), 0px 1px 3px 1px rgba(60, 64, 67, 0.15);\n",
              "      fill: #174EA6;\n",
              "    }\n",
              "\n",
              "    [theme=dark] .colab-df-convert {\n",
              "      background-color: #3B4455;\n",
              "      fill: #D2E3FC;\n",
              "    }\n",
              "\n",
              "    [theme=dark] .colab-df-convert:hover {\n",
              "      background-color: #434B5C;\n",
              "      box-shadow: 0px 1px 3px 1px rgba(0, 0, 0, 0.15);\n",
              "      filter: drop-shadow(0px 1px 2px rgba(0, 0, 0, 0.3));\n",
              "      fill: #FFFFFF;\n",
              "    }\n",
              "  </style>\n",
              "\n",
              "      <script>\n",
              "        const buttonEl =\n",
              "          document.querySelector('#df-bf13823a-7af8-439d-83a7-c838706fb587 button.colab-df-convert');\n",
              "        buttonEl.style.display =\n",
              "          google.colab.kernel.accessAllowed ? 'block' : 'none';\n",
              "\n",
              "        async function convertToInteractive(key) {\n",
              "          const element = document.querySelector('#df-bf13823a-7af8-439d-83a7-c838706fb587');\n",
              "          const dataTable =\n",
              "            await google.colab.kernel.invokeFunction('convertToInteractive',\n",
              "                                                     [key], {});\n",
              "          if (!dataTable) return;\n",
              "\n",
              "          const docLinkHtml = 'Like what you see? Visit the ' +\n",
              "            '<a target=\"_blank\" href=https://colab.research.google.com/notebooks/data_table.ipynb>data table notebook</a>'\n",
              "            + ' to learn more about interactive tables.';\n",
              "          element.innerHTML = '';\n",
              "          dataTable['output_type'] = 'display_data';\n",
              "          await google.colab.output.renderOutput(dataTable, element);\n",
              "          const docLink = document.createElement('div');\n",
              "          docLink.innerHTML = docLinkHtml;\n",
              "          element.appendChild(docLink);\n",
              "        }\n",
              "      </script>\n",
              "    </div>\n",
              "  </div>\n",
              "  "
            ]
          },
          "metadata": {},
          "execution_count": 34
        }
      ]
    },
    {
      "cell_type": "code",
      "source": [
        "# Se requiere que la columna de la variable dependiente \"income\" quede al final del dataframe. \n",
        "columnas = list(df_censo_test)\n",
        "print(columnas.index('income'))"
      ],
      "metadata": {
        "colab": {
          "base_uri": "https://localhost:8080/"
        },
        "id": "LeQBInWQEGhb",
        "outputId": "28d31e37-11c9-4b91-8ae2-27290add3c21"
      },
      "execution_count": null,
      "outputs": [
        {
          "output_type": "stream",
          "name": "stdout",
          "text": [
            "5\n"
          ]
        }
      ]
    },
    {
      "cell_type": "code",
      "source": [
        "columnas[5] = columnas[-1]\n",
        "columnas_nuevas = list(columnas)\n",
        "columnas_nuevas.append('income')\n",
        "df_censo_test = df_censo_test[columnas_nuevas]\n",
        "df_censo_test.info()"
      ],
      "metadata": {
        "colab": {
          "base_uri": "https://localhost:8080/"
        },
        "id": "ubowjG4TEIxM",
        "outputId": "058b0455-56f0-491d-fa6e-16a002a33deb"
      },
      "execution_count": null,
      "outputs": [
        {
          "output_type": "stream",
          "name": "stdout",
          "text": [
            "<class 'pandas.core.frame.DataFrame'>\n",
            "Int64Index: 16181 entries, 0 to 16280\n",
            "Data columns (total 48 columns):\n",
            " #   Column                  Non-Null Count  Dtype  \n",
            "---  ------                  --------------  -----  \n",
            " 0   age                     15060 non-null  float64\n",
            " 1   education-num           15060 non-null  float64\n",
            " 2   capital-gain            15060 non-null  float64\n",
            " 3   capital-loss            15060 non-null  float64\n",
            " 4   hours-per-week          15060 non-null  float64\n",
            " 5    Male                   15060 non-null  float64\n",
            " 6    Federal-gov            15060 non-null  float64\n",
            " 7    Local-gov              15060 non-null  float64\n",
            " 8    Private                15060 non-null  float64\n",
            " 9    Self-emp-inc           15060 non-null  float64\n",
            " 10   Self-emp-not-inc       15060 non-null  float64\n",
            " 11   State-gov              15060 non-null  float64\n",
            " 12   Without-pay            15060 non-null  float64\n",
            " 13   Divorced               15060 non-null  float64\n",
            " 14   Married-AF-spouse      15060 non-null  float64\n",
            " 15   Married-civ-spouse     15060 non-null  float64\n",
            " 16   Married-spouse-absent  15060 non-null  float64\n",
            " 17   Never-married          15060 non-null  float64\n",
            " 18   Separated              15060 non-null  float64\n",
            " 19   Widowed                15060 non-null  float64\n",
            " 20   Adm-clerical           15060 non-null  float64\n",
            " 21   Armed-Forces           15060 non-null  float64\n",
            " 22   Craft-repair           15060 non-null  float64\n",
            " 23   Exec-managerial        15060 non-null  float64\n",
            " 24   Farming-fishing        15060 non-null  float64\n",
            " 25   Handlers-cleaners      15060 non-null  float64\n",
            " 26   Machine-op-inspct      15060 non-null  float64\n",
            " 27   Other-service          15060 non-null  float64\n",
            " 28   Priv-house-serv        15060 non-null  float64\n",
            " 29   Prof-specialty         15060 non-null  float64\n",
            " 30   Protective-serv        15060 non-null  float64\n",
            " 31   Sales                  15060 non-null  float64\n",
            " 32   Tech-support           15060 non-null  float64\n",
            " 33   Transport-moving       15060 non-null  float64\n",
            " 34   Husband                15060 non-null  float64\n",
            " 35   Not-in-family          15060 non-null  float64\n",
            " 36   Other-relative         15060 non-null  float64\n",
            " 37   Own-child              15060 non-null  float64\n",
            " 38   Unmarried              15060 non-null  float64\n",
            " 39   Wife                   15060 non-null  float64\n",
            " 40   Amer-Indian-Eskimo     15060 non-null  float64\n",
            " 41   Asian-Pac-Islander     15060 non-null  float64\n",
            " 42   Black                  15060 non-null  float64\n",
            " 43   Other                  15060 non-null  float64\n",
            " 44   White                  15060 non-null  float64\n",
            " 45   Female                 15060 non-null  float64\n",
            " 46   Male                   15060 non-null  float64\n",
            " 47  income                  15060 non-null  float64\n",
            "dtypes: float64(48)\n",
            "memory usage: 6.0 MB\n"
          ]
        }
      ]
    },
    {
      "cell_type": "markdown",
      "source": [
        "#**Conclusiones**\n",
        "\n",
        "* Se presentaron dos datset para pruebas y entrenamientos.\n",
        "* Ambos dataset se trataron o analizaron de forma separada.\n",
        "* Se encontraron en ambos datase variables categoricas y variables numericas. \n",
        "* Las variables numericas fueron analizadas y se visualizó su comportamiento con graficas y resumen estadistico. El proposito es revisar la relacion entre las varibales y descartar aquellas que no influian o deterioraban las relaciones. \n",
        "* Adicionalmente, en las variables numericas se observó el comportamiento en realcion a la distribucion. Lo anterior, se reflejo en el estudio sobre las variables \"age\" y \"salary\". \n",
        "* Se encuentra que la variable dependiente es del tipo categorico. Se procede a pasarla a variable numerica, conservando su dicotomia binaria (0,1). \n",
        "* Para el entrenamiento de las variables categoricas, se hizo uso de la funcion de pandas: **get_dummies**.\n",
        "* Para ambos casos de los dataframes (train y test) se eliminaran los datos desaparecidos o imposibles, dado que no representaban mas del 1.5% de los datos. \n",
        "* La columna \"native-country\" se eliminó, para evitar crecer el dataframe de valores o variables las cuales no representaban mas del 1% de los datos de variable \"native-country\". Es decirm que la gran mayoria de personas son del pais USA, pais de origen del censo del 1994. \n",
        "* Finalmente, el dataframe para ambos casos (train y test) quedo preprocesado con 46 variables independientes del tipo \"float64\" y 1 variable dependiente igualmente del tipo \"float64\"."
      ],
      "metadata": {
        "id": "PxCBMD1HET4H"
      }
    }
  ],
  "metadata": {
    "kernelspec": {
      "display_name": "Python 3.10.4 64-bit",
      "language": "python",
      "name": "python3"
    },
    "language_info": {
      "codemirror_mode": {
        "name": "ipython",
        "version": 3
      },
      "file_extension": ".py",
      "mimetype": "text/x-python",
      "name": "python",
      "nbconvert_exporter": "python",
      "pygments_lexer": "ipython3",
      "version": "3.10.4"
    },
    "orig_nbformat": 4,
    "vscode": {
      "interpreter": {
        "hash": "916dbcbb3f70747c44a77c7bcd40155683ae19c65e1c03b4aa3499c5328201f1"
      }
    },
    "colab": {
      "name": "regresion_logistica1.ipynb",
      "provenance": [],
      "collapsed_sections": []
    }
  },
  "nbformat": 4,
  "nbformat_minor": 0
}